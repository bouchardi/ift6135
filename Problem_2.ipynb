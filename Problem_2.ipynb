{
  "nbformat": 4,
  "nbformat_minor": 0,
  "metadata": {
    "colab": {
      "name": "Problem_2.ipynb",
      "version": "0.3.2",
      "provenance": [],
      "collapsed_sections": [],
      "toc_visible": true,
      "include_colab_link": true
    },
    "kernelspec": {
      "name": "python3",
      "display_name": "Python 3"
    },
    "accelerator": "GPU"
  },
  "cells": [
    {
      "cell_type": "markdown",
      "metadata": {
        "id": "view-in-github",
        "colab_type": "text"
      },
      "source": [
        "<a href=\"https://colab.research.google.com/github/isabellebouchard/ift6135/blob/master/Problem_2.ipynb\" target=\"_parent\"><img src=\"https://colab.research.google.com/assets/colab-badge.svg\" alt=\"Open In Colab\"/></a>"
      ]
    },
    {
      "metadata": {
        "id": "vOsrK0HhsHwK",
        "colab_type": "text"
      },
      "cell_type": "markdown",
      "source": [
        "#TODO\n",
        "- check that mnist data isn't in order from 1-9\n",
        "- I did train 80%, validate 20% (check MLP)\n",
        "- going to have to change the activation function in MLP from sigmoid (11% accuracy aka random) to ReLU (95% accuracy)\n",
        "- try using Leaky ReLU as activation function \n",
        "- can we use dropout?\n",
        "- add dilation?\n",
        "- check if its better to have smaller filters at the beginning or end of network (see textbook)\n",
        "- can we add batchnorm? \n",
        "- add more parameters to match MLP\n",
        "- separate train from evaluate (commented out right now)\n"
      ]
    },
    {
      "metadata": {
        "id": "VH4lIYcO1K6Q",
        "colab_type": "text"
      },
      "cell_type": "markdown",
      "source": [
        "# Problem 2\n",
        "\n",
        "**Instructions**: For this part of the assignment we will train a convolutional network on MNIST\n",
        "for 10 epochs using your favorite deep learning frameworks such as Pytorch of Tensor\n",
        "ow. Plot the\n",
        "train and valid errors at the end of each epoch for the model.\n",
        "1. Come up with a CNN architecture with more or less similar number of parameters as MLP\n",
        "trained in Problem 1 and describe it.\n",
        "\n",
        "MLP in Problem 1:\n",
        "\n",
        "*   two hidden layers\n",
        "*   input data size is 784 and output is parameterized by a softmax of 10 classes\n",
        "*   train using probability loss (cross entropy) and minimize this criterion to optimize the model parameters using SGD\n",
        "*   non-linearity chosen as neuron activation (activation function): sigmoid (we should try ReLu)\n",
        "*   learning rate: 1.e-2\n",
        "*   mini-batch size: 128\n",
        "\n",
        "\n",
        "2. Compare the performances of CNN vs MLP. Comment.\n",
        "\n",
        "You could take reference from the architecture mentioned here: \n",
        "https://github.com/MaximumEntropy/welcome_tutorials/tree/pytorch/pytorch \n",
        "\n",
        "\n"
      ]
    },
    {
      "metadata": {
        "id": "WesbPV2R1WnZ",
        "colab_type": "text"
      },
      "cell_type": "markdown",
      "source": [
        "# CNN Architecture\n",
        "\n"
      ]
    },
    {
      "metadata": {
        "id": "EWHeQer4mskR",
        "colab_type": "text"
      },
      "cell_type": "markdown",
      "source": [
        "**Input Image**: 28 x 28\n",
        "\n",
        "**Convolution 1**: 32 filters, kernel size = 5, stide = 1,  padding = 2\n",
        "\n",
        "**Max pooling 1**: kernel size = 2\n",
        "\n",
        "**Convolution 2**: 64 filters, kernel size = 5, stide = 1,  padding = 2\n",
        "\n",
        "**Max pooling 2**: kernel size = 2\n",
        "\n",
        "**Convolution 3**: 128 filters, kernel size = 5, stide = 1,  padding = 2\n",
        "\n",
        "**Max pooling 3**: kernel size = 2\n",
        "\n",
        "**Convolution 4**: 256 filters, kernel size = 3, stide = 1,  padding = 2\n",
        "\n",
        "**Max pooling 4**: kernel size = 2\n",
        "\n",
        "**Fully Connected Layer**: 2 x 2 x 256 \n",
        "\n",
        "**Ouput:** 10 x 1\n",
        "\n",
        "**Loss:** softmax + cross-entropy\n",
        "\n"
      ]
    },
    {
      "metadata": {
        "id": "684DW9LYqBOQ",
        "colab_type": "text"
      },
      "cell_type": "markdown",
      "source": [
        "### Installation Requirements"
      ]
    },
    {
      "metadata": {
        "id": "bpLwFCA2qZ3Z",
        "colab_type": "code",
        "colab": {
          "base_uri": "https://localhost:8080/",
          "height": 224
        },
        "outputId": "79bc3078-a980-47e1-979c-bb3b8e265fec"
      },
      "cell_type": "code",
      "source": [
        "!pip3 install torch torchvision matplotlib "
      ],
      "execution_count": 1,
      "outputs": [
        {
          "output_type": "stream",
          "text": [
            "Requirement already satisfied: torch in /usr/local/lib/python3.6/dist-packages (1.0.0)\n",
            "Requirement already satisfied: torchvision in /usr/local/lib/python3.6/dist-packages (0.2.1)\n",
            "Requirement already satisfied: matplotlib in /usr/local/lib/python3.6/dist-packages (3.0.2)\n",
            "Requirement already satisfied: pillow>=4.1.1 in /usr/local/lib/python3.6/dist-packages (from torchvision) (5.4.1)\n",
            "Requirement already satisfied: numpy in /usr/local/lib/python3.6/dist-packages (from torchvision) (1.14.6)\n",
            "Requirement already satisfied: six in /usr/local/lib/python3.6/dist-packages (from torchvision) (1.11.0)\n",
            "Requirement already satisfied: kiwisolver>=1.0.1 in /usr/local/lib/python3.6/dist-packages (from matplotlib) (1.0.1)\n",
            "Requirement already satisfied: pyparsing!=2.0.4,!=2.1.2,!=2.1.6,>=2.0.1 in /usr/local/lib/python3.6/dist-packages (from matplotlib) (2.3.1)\n",
            "Requirement already satisfied: cycler>=0.10 in /usr/local/lib/python3.6/dist-packages (from matplotlib) (0.10.0)\n",
            "Requirement already satisfied: python-dateutil>=2.1 in /usr/local/lib/python3.6/dist-packages (from matplotlib) (2.5.3)\n",
            "Requirement already satisfied: setuptools in /usr/local/lib/python3.6/dist-packages (from kiwisolver>=1.0.1->matplotlib) (40.7.3)\n"
          ],
          "name": "stdout"
        }
      ]
    },
    {
      "metadata": {
        "id": "6XE-zREuubCO",
        "colab_type": "text"
      },
      "cell_type": "markdown",
      "source": [
        "### Use GPU \n",
        "\n",
        "First, select \"GPU\" in the Edit Menu -> Notebook Settings -> Hardware Accelerator -> GPU\n",
        "\n",
        "**torch.cuda**: *This package adds support for CUDA tensor types, that implement the same function as CPU tensors, but they utilize GPUs for computation.*\n",
        "\n",
        "**torch.cuda.is_available()**: *Returns a bool indicating if CUDA is currently available.*\n",
        "\n",
        "To go from a tensor type CPU to GPU, add .to(\"cuda:0\")"
      ]
    },
    {
      "metadata": {
        "id": "CazsaWTvwY4a",
        "colab_type": "code",
        "colab": {
          "base_uri": "https://localhost:8080/",
          "height": 34
        },
        "outputId": "2bb1ff6b-b638-408c-9b0e-9cfbcc94f89c"
      },
      "cell_type": "code",
      "source": [
        "import torch\n",
        "\n",
        "use_gpu = torch.cuda.is_available()\n",
        "print(\"GPU Available: {}\".format(use_gpu))\n",
        "device = torch.device(\"cuda:0\" if use_gpu else \"cpu\")"
      ],
      "execution_count": 2,
      "outputs": [
        {
          "output_type": "stream",
          "text": [
            "GPU Available: True\n"
          ],
          "name": "stdout"
        }
      ]
    },
    {
      "metadata": {
        "id": "d-ds7UbtqNVJ",
        "colab_type": "text"
      },
      "cell_type": "markdown",
      "source": [
        "### MNIST Data\n",
        "\n",
        "Get MNIST Data, split in train/validate/test and load in DataLoader"
      ]
    },
    {
      "metadata": {
        "id": "CRsuMTDdEhJN",
        "colab_type": "code",
        "colab": {}
      },
      "cell_type": "code",
      "source": [
        "from torch.utils.data import sampler, DataLoader\n",
        "from torchvision.datasets import MNIST\n",
        "import torchvision.transforms as transforms\n",
        "import numpy as np\n",
        "import random\n",
        "\n",
        "batch_size = 128\n",
        "\n",
        "manualSeed = 1234\n",
        "use_gpu = torch.cuda.is_available()\n",
        "\n",
        "# Fixing random seed\n",
        "random.seed(manualSeed)\n",
        "np.random.seed(manualSeed)\n",
        "torch.manual_seed(manualSeed)\n",
        "if use_gpu:\n",
        "   torch.cuda.manual_seed_all(manualSeed)\n",
        "\n",
        "# ChunkSampler class is from https://github.com/pytorch/vision/issues/168\n",
        "class ChunkSampler(sampler.Sampler):\n",
        "    \"\"\"Samples elements sequentially from some offset. \n",
        "    Arguments:\n",
        "        num_samples: # of desired datapoints\n",
        "        start: offset where we should start selecting from\n",
        "    \"\"\"\n",
        "    def __init__(self, num_samples, start = 0):\n",
        "        self.num_samples = num_samples\n",
        "        self.start = start\n",
        "\n",
        "    def __iter__(self):\n",
        "        return iter(range(self.start, self.start + self.num_samples))\n",
        "\n",
        "    def __len__(self):\n",
        "        return self.num_samples\n",
        "\n",
        "train_set = MNIST(root='../data',train=True,transform=transforms.ToTensor(),download=True)\n",
        "test_set = MNIST(root='../data',train=False,transform=transforms.ToTensor(),download=True)\n",
        "\n",
        "train_set_size = len(train_set)\n",
        "NUM_TRAIN = int(0.8 * train_set_size) #cast to int to avoid TypeError: 'float' object cannot be interpreted as an integer\n",
        "NUM_VAL = train_set_size - NUM_TRAIN\n",
        "NUM_TEST = len(test_set)\n",
        "\n",
        "loader_train = DataLoader(train_set, batch_size=batch_size, sampler=ChunkSampler(NUM_TRAIN, 0),shuffle=False)\n",
        "loader_val = DataLoader(train_set, batch_size=batch_size, sampler=ChunkSampler(NUM_VAL, NUM_TRAIN),shuffle=False)\n",
        "loader_test = DataLoader(test_set, batch_size=batch_size,shuffle=False)"
      ],
      "execution_count": 0,
      "outputs": []
    },
    {
      "metadata": {
        "id": "19H5ZWImwdHt",
        "colab_type": "text"
      },
      "cell_type": "markdown",
      "source": [
        "### CNN Model\n",
        "\n",
        "[torch.nn.Module](https://pytorch.org/docs/master/nn.html#torch.nn.Module): Base class for all NN modules. \n",
        "Must implement __init__ (defines the layers) and **forward** (returns the output)\n",
        "\n",
        "[torch.nn.Sequential(*args)](https://pytorch.org/docs/master/nn.html#torch.nn.Sequential): Modules will be added to it in the order they are passed in the constructor\n",
        "\n",
        " [torch.nn.Conv2d](https://pytorch.org/docs/master/nn.html#torch.nn.Conv2d)(in_channels, out_channels, kernel_size, stride=1, padding=0, dilation=1, groups=1, bias=True)\n",
        " \n",
        "[ torch.nn.Sigmoid](https://pytorch.org/docs/master/nn.html#sigmoid)\n",
        "\n",
        "[torch.nn.MaxPool2d](https://pytorch.org/docs/master/nn.html#torch.nn.MaxPool2d)(kernel_size, stride=None, padding=0, dilation=1, return_indices=False, ceil_mode=False): Applies a 2D max pooling over an input signal composed of several input planes.\n",
        "\n",
        " [torch.nn.Dropout2d](https://pytorch.org/docs/master/nn.html#dropout2d)(p=0.5, inplace=False): *Each channel will be zeroed out independently on every forward call. with probability p using samples from a Bernoulli distribution*\n",
        "\n",
        " [torch.nn.Linear](https://pytorch.org/docs/master/nn.html#torch.nn.Linear)(in_features, out_features, bias=True)\n"
      ]
    },
    {
      "metadata": {
        "id": "BsuLybW3wyq2",
        "colab_type": "code",
        "colab": {
          "base_uri": "https://localhost:8080/",
          "height": 527
        },
        "outputId": "f13ecb4a-bd14-441c-b10b-d07f02d692c3"
      },
      "cell_type": "code",
      "source": [
        "import torch.nn as nn\n",
        "import copy\n",
        "\n",
        "class CNN(nn.Module):\n",
        "  def __init__(self):\n",
        "    super(CNN, self).__init__()\n",
        "    \n",
        "    self.conv1 = nn.Sequential(\n",
        "        nn.Conv2d(1,32,kernel_size=5,padding=2),\n",
        "        #nn.Sigmoid(),\n",
        "        nn.ReLU(),\n",
        "        nn.MaxPool2d(2),\n",
        "        nn.Dropout2d())\n",
        "    \n",
        "    self.conv2 = nn.Sequential(\n",
        "        nn.Conv2d(32,64,kernel_size=5,padding=2),\n",
        "        #nn.Sigmoid(),\n",
        "        nn.ReLU(),\n",
        "        nn.MaxPool2d(2),\n",
        "        nn.Dropout2d())\n",
        "\n",
        "    self.conv3 = nn.Sequential(\n",
        "        nn.Conv2d(64,128,kernel_size=5,padding=2),\n",
        "        #nn.Sigmoid(),\n",
        "        nn.ReLU(),\n",
        "        nn.MaxPool2d(2),\n",
        "        nn.Dropout2d())\n",
        "    \n",
        "    self.conv4 = nn.Sequential(\n",
        "        nn.Conv2d(128,256,kernel_size=3,padding=2),\n",
        "        #nn.Sigmoid(),\n",
        "        nn.ReLU(),\n",
        "        nn.MaxPool2d(2),\n",
        "        nn.Dropout2d())\n",
        "    \n",
        "    self.fc = nn.Linear(2*2*256,10)\n",
        "\n",
        "  def forward(self,x):\n",
        "    out = self.conv1(x)\n",
        "    out = self.conv2(out)\n",
        "    out = self.conv3(out)\n",
        "    out = self.conv4(out)\n",
        "    flatten = out.view(out.size(0),-1)\n",
        "    fc = self.fc(flatten)\n",
        "    return fc\n",
        "\n",
        "model = CNN()\n",
        "# put model on GPU\n",
        "model = model.to(device)\n",
        "\n",
        "print(model)\n",
        "\n",
        "print(\"\\n\\n# Parameters: \", sum([param.nelement() for param in model.parameters()]))\n",
        "\n",
        "# Save the initial weights of model\n",
        "init_model_wts = copy.deepcopy(model.state_dict())"
      ],
      "execution_count": 4,
      "outputs": [
        {
          "output_type": "stream",
          "text": [
            "CNN(\n",
            "  (conv1): Sequential(\n",
            "    (0): Conv2d(1, 32, kernel_size=(5, 5), stride=(1, 1), padding=(2, 2))\n",
            "    (1): ReLU()\n",
            "    (2): MaxPool2d(kernel_size=2, stride=2, padding=0, dilation=1, ceil_mode=False)\n",
            "    (3): Dropout2d(p=0.5)\n",
            "  )\n",
            "  (conv2): Sequential(\n",
            "    (0): Conv2d(32, 64, kernel_size=(5, 5), stride=(1, 1), padding=(2, 2))\n",
            "    (1): ReLU()\n",
            "    (2): MaxPool2d(kernel_size=2, stride=2, padding=0, dilation=1, ceil_mode=False)\n",
            "    (3): Dropout2d(p=0.5)\n",
            "  )\n",
            "  (conv3): Sequential(\n",
            "    (0): Conv2d(64, 128, kernel_size=(5, 5), stride=(1, 1), padding=(2, 2))\n",
            "    (1): ReLU()\n",
            "    (2): MaxPool2d(kernel_size=2, stride=2, padding=0, dilation=1, ceil_mode=False)\n",
            "    (3): Dropout2d(p=0.5)\n",
            "  )\n",
            "  (conv4): Sequential(\n",
            "    (0): Conv2d(128, 256, kernel_size=(3, 3), stride=(1, 1), padding=(2, 2))\n",
            "    (1): ReLU()\n",
            "    (2): MaxPool2d(kernel_size=2, stride=2, padding=0, dilation=1, ceil_mode=False)\n",
            "    (3): Dropout2d(p=0.5)\n",
            "  )\n",
            "  (fc): Linear(in_features=1024, out_features=10, bias=True)\n",
            ")\n",
            "\n",
            "\n",
            "# Parameters:  562442\n"
          ],
          "name": "stdout"
        }
      ]
    },
    {
      "metadata": {
        "id": "av0WomNHWIpa",
        "colab_type": "text"
      },
      "cell_type": "markdown",
      "source": [
        "### Train CNN\n",
        "\n",
        "#### Loss function\n",
        "\n",
        "criterion = [torch.nn.CrossEntropyLoss](https://pytorch.org/docs/master/nn.html#torch.nn.CrossEntropyLoss)(weight=None, size_average=None, ignore_index=-100, reduce=None, reduction='mean')\n",
        "\n",
        "#### Minimize loss function using stochastic gradient descent\n",
        "optimizer = **bold text**[torch.optim.SGD](https://pytorch.org/docs/master/optim.html#torch.optim.SGD)(params, lr=<required parameter>, momentum=0, dampening=0, weight_decay=0, nesterov=False)\n"
      ]
    },
    {
      "metadata": {
        "id": "qNbuxqGNWPGs",
        "colab_type": "code",
        "colab": {
          "base_uri": "https://localhost:8080/",
          "height": 714
        },
        "outputId": "5d1271f9-1dc0-40b8-b298-b8bac192d30d"
      },
      "cell_type": "code",
      "source": [
        "learning_rate = 1e-2\n",
        "num_epochs = 10\n",
        "\n",
        "#loss function\n",
        "criterion = nn.CrossEntropyLoss()  \n",
        "\n",
        "#optimizer\n",
        "optimizer = torch.optim.SGD(model.parameters(), lr=learning_rate)\n",
        "\n",
        "model.load_state_dict(init_model_wts)\n",
        "\n",
        "train_errors = []\n",
        "eval_errors = []\n",
        "\n",
        "print(\"Training begins...\")\n",
        "for epoch in range(num_epochs):\n",
        "  \n",
        "  train_error = 0\n",
        "  train_num = 0\n",
        "  \n",
        "  # model in train mode\n",
        "  model.train()\n",
        "  \n",
        "  for digits, labels in loader_train:\n",
        "    \n",
        "    # digits and labels on GPU\n",
        "    digits = digits.to(device)\n",
        "    labels = labels.to(device)\n",
        "    \n",
        "    # zero gradient buffer\n",
        "    optimizer.zero_grad()\n",
        "    \n",
        "    # forward pass\n",
        "    outputs = model(digits)\n",
        "    \n",
        "    # loss function\n",
        "    loss = criterion(outputs,labels)\n",
        "    \n",
        "    # backward pass\n",
        "    loss.backward()\n",
        "    \n",
        "    # gradient descent step\n",
        "    optimizer.step()\n",
        "    \n",
        "    # add the loss\n",
        "    train_error += loss.item()\n",
        "    train_num += 1\n",
        "  \n",
        "  eval_error = 0\n",
        "  eval_num = 0\n",
        "  \n",
        "  # model in eval mode\n",
        "  model.eval()\n",
        "  \n",
        "  for digits, labels in loader_val:\n",
        "    \n",
        "    # digits and labels on GPU\n",
        "    digits = digits.to(device)\n",
        "    labels = labels.to(device)\n",
        "        \n",
        "    # forward pass\n",
        "    outputs = model(digits)\n",
        "    \n",
        "    # loss function\n",
        "    loss = criterion(outputs,labels)\n",
        "        \n",
        "    # add the loss\n",
        "    eval_error += loss.item()\n",
        "    eval_num += 1\n",
        "  \n",
        "  # save the loss\n",
        "  train_errors.append(train_error / train_num)\n",
        "  eval_errors.append(eval_error / eval_num)\n",
        "  \n",
        "  #print eval_error after each epoch\n",
        "  print('\\nEpoch {}'.format(epoch + 1))\n",
        "  print('\\tTrain error: {:.4f}'.format(train_error/train_num))  \n",
        "  print('\\tEval error: {:.4f}'.format(eval_error/eval_num))\n",
        "  "
      ],
      "execution_count": 5,
      "outputs": [
        {
          "output_type": "stream",
          "text": [
            "Training begins...\n",
            "\n",
            "Epoch 1\n",
            "\tTrain error: 2.3000\n",
            "\tEval error: 2.2962\n",
            "\n",
            "Epoch 2\n",
            "\tTrain error: 2.2914\n",
            "\tEval error: 2.2787\n",
            "\n",
            "Epoch 3\n",
            "\tTrain error: 2.2654\n",
            "\tEval error: 2.1998\n",
            "\n",
            "Epoch 4\n",
            "\tTrain error: 1.8221\n",
            "\tEval error: 0.9212\n",
            "\n",
            "Epoch 5\n",
            "\tTrain error: 0.8921\n",
            "\tEval error: 0.4523\n",
            "\n",
            "Epoch 6\n",
            "\tTrain error: 0.5721\n",
            "\tEval error: 0.3117\n",
            "\n",
            "Epoch 7\n",
            "\tTrain error: 0.4320\n",
            "\tEval error: 0.2457\n",
            "\n",
            "Epoch 8\n",
            "\tTrain error: 0.3597\n",
            "\tEval error: 0.2012\n",
            "\n",
            "Epoch 9\n",
            "\tTrain error: 0.3105\n",
            "\tEval error: 0.1775\n",
            "\n",
            "Epoch 10\n",
            "\tTrain error: 0.2794\n",
            "\tEval error: 0.1575\n"
          ],
          "name": "stdout"
        }
      ]
    },
    {
      "metadata": {
        "id": "-CaHug8ywF-U",
        "colab_type": "text"
      },
      "cell_type": "markdown",
      "source": [
        "### Evaluate CNN\n"
      ]
    },
    {
      "metadata": {
        "id": "fa8RYeR9wOmb",
        "colab_type": "code",
        "colab": {}
      },
      "cell_type": "code",
      "source": [
        "# eval_errors = []\n",
        "\n",
        "# print(\"Evaluation begins...\")\n",
        "\n",
        "# for epoch in range(num_epochs):\n",
        "  \n",
        "#   eval_error = 0\n",
        "#   eval_num = 0\n",
        "  \n",
        "#   # model in eval mode\n",
        "#   model.eval()\n",
        "  \n",
        "#   for digits, labels in loader_val:\n",
        "    \n",
        "#     # digits and labels on GPU\n",
        "#     digits = digits.to(device)\n",
        "#     labels = labels.to(device)\n",
        "        \n",
        "#     # forward pass\n",
        "#     outputs = model(digits)\n",
        "    \n",
        "#     # loss function\n",
        "#     loss = criterion(outputs,labels)\n",
        "        \n",
        "#     # add the loss\n",
        "#     eval_error += loss.item()\n",
        "#     eval_num += 1\n",
        "  \n",
        "#   # save the loss\n",
        "#   eval_errors.append(eval_error / eval_num)\n",
        "  \n",
        "#   #print eval_error after each epoch\n",
        "#   print('\\nEpoch {}'.format(epoch + 1))\n",
        "#   print('\\tEval error: {:.4f}'.format(eval_error/eval_num))\n",
        "    "
      ],
      "execution_count": 0,
      "outputs": []
    },
    {
      "metadata": {
        "id": "Jsv2qq5dxdXK",
        "colab_type": "text"
      },
      "cell_type": "markdown",
      "source": [
        "### Plot Train and Valid Errors"
      ]
    },
    {
      "metadata": {
        "id": "ppiHJuZTxl89",
        "colab_type": "code",
        "colab": {
          "base_uri": "https://localhost:8080/",
          "height": 361
        },
        "outputId": "11950e8a-c61a-4ffa-fefd-a5d84d4d390c"
      },
      "cell_type": "code",
      "source": [
        "import matplotlib.pyplot as plt\n",
        "\n",
        "# Plot training and validation curve\n",
        "x = range(1, num_epochs + 1)\n",
        "plt.plot(x, train_errors, label='train')\n",
        "plt.plot(x, eval_errors, label='valid')\n",
        "\n",
        "plt.xlabel('# epochs')\n",
        "plt.ylabel('Loss')\n",
        "plt.legend()\n",
        "\n",
        "plt.show()"
      ],
      "execution_count": 6,
      "outputs": [
        {
          "output_type": "display_data",
          "data": {
            "image/png": "[encoded data removed]",
            "text/plain": [
              "<Figure size 576x396 with 1 Axes>"
            ]
          },
          "metadata": {
            "tags": []
          }
        }
      ]
    },
    {
      "metadata": {
        "id": "20iwVyynyVgH",
        "colab_type": "text"
      },
      "cell_type": "markdown",
      "source": [
        "### Test CNN"
      ]
    },
    {
      "metadata": {
        "id": "NMzvWhFxyXhl",
        "colab_type": "code",
        "colab": {
          "base_uri": "https://localhost:8080/",
          "height": 34
        },
        "outputId": "ed62a201-cdab-4d18-cfb6-99211343f228"
      },
      "cell_type": "code",
      "source": [
        "# model in eval mode\n",
        "model.eval()\n",
        "\n",
        "correct = 0\n",
        "total = 0\n",
        "\n",
        "for digits, labels in loader_test:\n",
        "  \n",
        "  # digits and labels on GPU\n",
        "  digits = digits.to(device)\n",
        "  labels = labels.to(device)\n",
        "  \n",
        "  # forward pass\n",
        "  outputs = model(digits)\n",
        "  _, predicted = torch.max(outputs.data, 1)\n",
        "  \n",
        "  # save the accuary\n",
        "  \n",
        "  total += labels.size(0)\n",
        "  correct += torch.sum(predicted == labels.data)\n",
        "  \n",
        "print('Accuracy on the test set: {:.2f}%'.format(100 * correct / total))\n",
        "  "
      ],
      "execution_count": 7,
      "outputs": [
        {
          "output_type": "stream",
          "text": [
            "Accuracy on the test set: 95.00%\n"
          ],
          "name": "stdout"
        }
      ]
    },
    {
      "metadata": {
        "id": "TzYy6Fe31sCs",
        "colab_type": "text"
      },
      "cell_type": "markdown",
      "source": [
        "# CNN vs. MLP \n",
        "\n",
        "## Number of parameters\n",
        "\n",
        "**CNN with 4 conv layers**\n",
        "\n",
        "conv1 = 32 filters size 5x5 + 32 biases = 32x5x5+32 = 832\n",
        "\n",
        "conv2 = 32x64 filters size 5x5 + 64 biases = 32x64x5x5 + 64 = 51,264\n",
        "\n",
        "conv3 = 64x128 filters size 5x5 + 128 biases = 64x128x5x5 + 128 = 204,928\n",
        "\n",
        "conv4 = 128x256 filters size 3x3 + 256 biases = 128x256x3x3 + 256 = 295,168\n",
        "\n",
        "fc = 1x(2x2x256) x 10 + 10 = 10,250\n",
        "\n",
        "total CNN parameters = 832 + 51,264 + 204,928 + 295,168 + 10,250 = **562,442**\n",
        "\n",
        "\n",
        "\n",
        "**MLP with 2 hidden layers**\n",
        "\n",
        "input to h1 = 784 x 512 = 401,408\n",
        "\n",
        "h1 to h2 = 512 x 1024 = 524,288\n",
        "\n",
        "h2 to output = 1024 x 10 = 10,240\n",
        "\n",
        "total MLP parameters = 401,408 + 524,288 + 10,240 = **935,936**\n",
        "\n",
        "## Discussion\n",
        "\n",
        "CNN's need significantly less parameters than MLP since they exhibit sparse connectivity and parameter sharing. \n",
        "\n",
        "**Sparse connectivity**: direct connections very sparse, but in the deeper layers, units are indirectly connected to all/most of the input image. \n",
        "\n",
        "**Parameter sharing**: each member of the kernel is used at every position of the input, meaning the same parameters are used at all input locations. Therefore you learn only one set of parameters. \n",
        "\n",
        "Since we are asked to build a CNN with similar number of parameters as the MLP trained in Problem 1, the CNN should outperform the MLP since it needs a significantly smaller number of weights to be able to match an MLP's performance. \n",
        "\n",
        "## Performance\n",
        "\n",
        "If m represents the size of the input image, and n the size of the output image, then MLP requires mxn parameters with O(mxn) runtime. In CNNs, you limit the number of connections of each output to k, this means you only need kxn parameters with O(kxn) runtime. \n"
      ]
    },
    {
      "metadata": {
        "id": "U3gbXk-i0-uH",
        "colab_type": "text"
      },
      "cell_type": "markdown",
      "source": [
        "# References\n",
        "\n",
        "List of references we can check out to increase our performance:\n",
        "\n",
        "*   MNIST Image Class Tensorflow CNN 99.51% Test Accur.: https://www.kaggle.com/raoulma/mnist-image-class-tensorflow-cnn-99-51-test-acc\n",
        "*   How to Choose CNN Architecture for MNIST: https://www.kaggle.com/cdeotte/how-to-choose-cnn-architecture-mnist\n",
        "*   99.75% Accur: https://www.kaggle.com/cdeotte/25-million-images-0-99757-mnist/notebook\n",
        "\n"
      ]
    }
  ]
}