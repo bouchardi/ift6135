{
  "nbformat": 4,
  "nbformat_minor": 0,
  "metadata": {
    "colab": {
      "name": "Problem_2.ipynb",
      "version": "0.3.2",
      "provenance": [],
      "include_colab_link": true
    },
    "kernelspec": {
      "name": "python3",
      "display_name": "Python 3"
    }
  },
  "cells": [
    {
      "cell_type": "markdown",
      "metadata": {
        "id": "view-in-github",
        "colab_type": "text"
      },
      "source": [
        "<a href=\"https://colab.research.google.com/github/isabellebouchard/ift6135/blob/master/Problem_2.ipynb\" target=\"_parent\"><img src=\"https://colab.research.google.com/assets/colab-badge.svg\" alt=\"Open In Colab\"/></a>"
      ]
    },
    {
      "metadata": {
        "id": "rkJydEf_vOkb",
        "colab_type": "text"
      },
      "cell_type": "markdown",
      "source": [
        "# **Problem 2**\n",
        "\n",
        "**Instructions**: For this part of the assignment we will train a convolutional network on MNIST\n",
        "for 10 epochs using your favorite deep learning frameworks such as Pytorch of Tensor\n",
        "ow. Plot the\n",
        "train and valid errors at the end of each epoch for the model.\n",
        "1. Come up with a CNN architecture with more or less similar number of parameters as MLP\n",
        "trained in Problem 1 and describe it.\n",
        "\n",
        "MLP in Problem 1:\n",
        "\n",
        "*   two hidden layers\n",
        "*   input data size is 784 and output is parameterized by a softmax of 10 classes\n",
        "*   train using probability loss (cross entropy) and minimize this criterion to optimize the model parameters using SGD\n",
        "*   non-linearity chosen as neuron activation (activation function): ?\n",
        "*   learning rate: ?\n",
        "*   mini-batch size: ?\n",
        "\n",
        "2. Compare the performances of CNN vs MLP. Comment.\n",
        "\n",
        "You could take reference from the architecture mentioned here: https://github.com/MaximumEntropy/welcome_tutorials/tree/pytorch/pytorch "
      ]
    },
    {
      "metadata": {
        "id": "3zfiRYLxvN7Z",
        "colab_type": "code",
        "colab": {}
      },
      "cell_type": "code",
      "source": [
        ""
      ],
      "execution_count": 0,
      "outputs": []
    }
  ]
}