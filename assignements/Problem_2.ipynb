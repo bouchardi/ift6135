{
  "nbformat": 4,
  "nbformat_minor": 0,
  "metadata": {
    "colab": {
      "name": "Copy of Problem_2v1.ipynb",
      "version": "0.3.2",
      "provenance": [],
      "collapsed_sections": [],
      "toc_visible": true
    },
    "kernelspec": {
      "name": "python3",
      "display_name": "Python 3"
    },
    "accelerator": "GPU"
  },
  "cells": [
    {
      "metadata": {
        "id": "view-in-github",
        "colab_type": "text"
      },
      "cell_type": "markdown",
      "source": [
        "<a href=\"https://colab.research.google.com/github/isabellebouchard/ift6135/blob/master/Problem_2.ipynb\" target=\"_parent\"><img src=\"https://colab.research.google.com/assets/colab-badge.svg\" alt=\"Open In Colab\"/></a>"
      ]
    },
    {
      "metadata": {
        "id": "VH4lIYcO1K6Q",
        "colab_type": "text"
      },
      "cell_type": "markdown",
      "source": [
        "# Problem 2\n",
        "\n",
        "**Instructions**: For this part of the assignment we will train a convolutional network on MNIST\n",
        "for 10 epochs using your favorite deep learning frameworks such as Pytorch of Tensor\n",
        "ow. Plot the\n",
        "train and valid errors at the end of each epoch for the model.\n",
        "1. Come up with a CNN architecture with more or less similar number of parameters as MLP\n",
        "trained in Problem 1 and describe it.\n",
        "2. Compare the performances of CNN vs MLP. Comment.\n",
        "\n",
        "You could take reference from the architecture mentioned here: \n",
        "https://github.com/MaximumEntropy/welcome_tutorials/tree/pytorch/pytorch \n",
        "\n",
        "\n"
      ]
    },
    {
      "metadata": {
        "id": "684DW9LYqBOQ",
        "colab_type": "text"
      },
      "cell_type": "markdown",
      "source": [
        "### Installation Requirements"
      ]
    },
    {
      "metadata": {
        "id": "bpLwFCA2qZ3Z",
        "colab_type": "code",
        "outputId": "4b752020-0778-4b58-dccb-6f754c758037",
        "colab": {
          "base_uri": "https://localhost:8080/",
          "height": 204
        }
      },
      "cell_type": "code",
      "source": [
        "!pip3 install torch torchvision matplotlib "
      ],
      "execution_count": 0,
      "outputs": [
        {
          "output_type": "stream",
          "text": [
            "Requirement already satisfied: torch in /usr/local/lib/python3.6/dist-packages (1.0.1.post2)\n",
            "Requirement already satisfied: torchvision in /usr/local/lib/python3.6/dist-packages (0.2.1)\n",
            "Requirement already satisfied: matplotlib in /usr/local/lib/python3.6/dist-packages (3.0.2)\n",
            "Requirement already satisfied: six in /usr/local/lib/python3.6/dist-packages (from torchvision) (1.11.0)\n",
            "Requirement already satisfied: numpy in /usr/local/lib/python3.6/dist-packages (from torchvision) (1.14.6)\n",
            "Requirement already satisfied: pillow>=4.1.1 in /usr/local/lib/python3.6/dist-packages (from torchvision) (5.4.1)\n",
            "Requirement already satisfied: kiwisolver>=1.0.1 in /usr/local/lib/python3.6/dist-packages (from matplotlib) (1.0.1)\n",
            "Requirement already satisfied: cycler>=0.10 in /usr/local/lib/python3.6/dist-packages (from matplotlib) (0.10.0)\n",
            "Requirement already satisfied: pyparsing!=2.0.4,!=2.1.2,!=2.1.6,>=2.0.1 in /usr/local/lib/python3.6/dist-packages (from matplotlib) (2.3.1)\n",
            "Requirement already satisfied: python-dateutil>=2.1 in /usr/local/lib/python3.6/dist-packages (from matplotlib) (2.5.3)\n",
            "Requirement already satisfied: setuptools in /usr/local/lib/python3.6/dist-packages (from kiwisolver>=1.0.1->matplotlib) (40.8.0)\n"
          ],
          "name": "stdout"
        }
      ]
    },
    {
      "metadata": {
        "id": "6XE-zREuubCO",
        "colab_type": "text"
      },
      "cell_type": "markdown",
      "source": [
        "### Use GPU \n",
        "\n",
        "First, select \"GPU\" in the Edit Menu -> Notebook Settings -> Hardware Accelerator -> GPU\n",
        "\n",
        "**torch.cuda**: *This package adds support for CUDA tensor types, that implement the same function as CPU tensors, but they utilize GPUs for computation.*\n",
        "\n",
        "**torch.cuda.is_available()**: *Returns a bool indicating if CUDA is currently available.*\n",
        "\n",
        "To go from a tensor type CPU to GPU, add .to(\"cuda:0\")"
      ]
    },
    {
      "metadata": {
        "id": "CazsaWTvwY4a",
        "colab_type": "code",
        "outputId": "40830f3c-faba-4640-d5c3-6cae26829148",
        "colab": {
          "base_uri": "https://localhost:8080/",
          "height": 34
        }
      },
      "cell_type": "code",
      "source": [
        "import torch\n",
        "\n",
        "use_gpu = torch.cuda.is_available()\n",
        "print(\"GPU Available: {}\".format(use_gpu))\n",
        "device = torch.device(\"cuda:0\" if use_gpu else \"cpu\")"
      ],
      "execution_count": 0,
      "outputs": [
        {
          "output_type": "stream",
          "text": [
            "GPU Available: True\n"
          ],
          "name": "stdout"
        }
      ]
    },
    {
      "metadata": {
        "id": "d-ds7UbtqNVJ",
        "colab_type": "text"
      },
      "cell_type": "markdown",
      "source": [
        "### MNIST Data\n",
        "\n",
        "Get MNIST Data, split in train/validate/test and load in DataLoader"
      ]
    },
    {
      "metadata": {
        "id": "CRsuMTDdEhJN",
        "colab_type": "code",
        "colab": {}
      },
      "cell_type": "code",
      "source": [
        "from torch.utils.data import sampler, DataLoader\n",
        "from torchvision.datasets import MNIST\n",
        "import torchvision.transforms as transforms\n",
        "import numpy as np\n",
        "import random\n",
        "\n",
        "batch_size = 34\n",
        "\n",
        "# ChunkSampler class is from https://github.com/pytorch/vision/issues/168\n",
        "class ChunkSampler(sampler.Sampler):\n",
        "    \"\"\"Samples elements sequentially from some offset. \n",
        "    Arguments:\n",
        "        num_samples: # of desired datapoints\n",
        "        start: offset where we should start selecting from\n",
        "    \"\"\"\n",
        "    def __init__(self, num_samples, start = 0):\n",
        "        self.num_samples = num_samples\n",
        "        self.start = start\n",
        "\n",
        "    def __iter__(self):\n",
        "        return iter(range(self.start, self.start + self.num_samples))\n",
        "\n",
        "    def __len__(self):\n",
        "        return self.num_samples\n",
        "\n",
        "train_set = MNIST(root='../data',train=True,transform=transforms.ToTensor(),download=True)\n",
        "test_set = MNIST(root='../data',train=False,transform=transforms.ToTensor(),download=True)\n",
        "\n",
        "train_set_size = len(train_set)\n",
        "NUM_TRAIN = int(0.8 * train_set_size) #cast to int to avoid TypeError: 'float' object cannot be interpreted as an integer\n",
        "NUM_VAL = train_set_size - NUM_TRAIN\n",
        "NUM_TEST = len(test_set)\n",
        "\n",
        "loader_train = DataLoader(train_set, batch_size=batch_size, sampler=ChunkSampler(NUM_TRAIN, 0),shuffle=False)\n",
        "loader_val = DataLoader(train_set, batch_size=batch_size, sampler=ChunkSampler(NUM_VAL, NUM_TRAIN),shuffle=False)\n",
        "loader_test = DataLoader(test_set, batch_size=batch_size,shuffle=False)"
      ],
      "execution_count": 0,
      "outputs": []
    },
    {
      "metadata": {
        "id": "19H5ZWImwdHt",
        "colab_type": "text"
      },
      "cell_type": "markdown",
      "source": [
        "### CNN Model\n",
        "\n",
        "[torch.nn.Module](https://pytorch.org/docs/master/nn.html#torch.nn.Module): Base class for all NN modules. \n",
        "Must implement __init__ (defines the layers) and **forward** (returns the output)\n",
        "\n",
        "[torch.nn.Sequential(*args)](https://pytorch.org/docs/master/nn.html#torch.nn.Sequential): Modules will be added to it in the order they are passed in the constructor\n",
        "\n",
        " [torch.nn.Conv2d](https://pytorch.org/docs/master/nn.html#torch.nn.Conv2d)(in_channels, out_channels, kernel_size, stride=1, padding=0, dilation=1, groups=1, bias=True)\n",
        " \n",
        "[ torch.nn.Sigmoid](https://pytorch.org/docs/master/nn.html#sigmoid)\n",
        "\n",
        "[torch.nn.MaxPool2d](https://pytorch.org/docs/master/nn.html#torch.nn.MaxPool2d)(kernel_size, stride=None, padding=0, dilation=1, return_indices=False, ceil_mode=False): Applies a 2D max pooling over an input signal composed of several input planes.\n",
        "\n",
        " [torch.nn.Linear](https://pytorch.org/docs/master/nn.html#torch.nn.Linear)(in_features, out_features, bias=True)\n"
      ]
    },
    {
      "metadata": {
        "id": "BsuLybW3wyq2",
        "colab_type": "code",
        "outputId": "66614447-c0a0-4ef8-f173-dc740433bfcd",
        "colab": {
          "base_uri": "https://localhost:8080/",
          "height": 544
        }
      },
      "cell_type": "code",
      "source": [
        "import torch.nn as nn\n",
        "import copy\n",
        "\n",
        "class CNN(nn.Module):\n",
        "  def __init__(self):\n",
        "    super(CNN, self).__init__()\n",
        "    \n",
        "    self.conv1 = nn.Sequential(\n",
        "        nn.Conv2d(1,32,kernel_size=5,padding=2),\n",
        "        nn.ReLU(),\n",
        "        nn.MaxPool2d(2))\n",
        "    \n",
        "    self.conv2 = nn.Sequential(\n",
        "        nn.Conv2d(32,64,kernel_size=5,padding=2),\n",
        "        nn.ReLU(),\n",
        "        nn.MaxPool2d(2))\n",
        "\n",
        "    self.conv3 = nn.Sequential(\n",
        "        nn.Conv2d(64,96,kernel_size=5,padding=2),\n",
        "        nn.ReLU(),\n",
        "        nn.MaxPool2d(2))\n",
        "    \n",
        "    self.conv4 = nn.Sequential(\n",
        "        nn.Conv2d(96,246,kernel_size=3,padding=2),\n",
        "        nn.ReLU(),\n",
        "        nn.MaxPool2d(2))\n",
        "    \n",
        "    self.conv5 = nn.Sequential(\n",
        "        nn.Conv2d(246,246,kernel_size=3,padding=2),\n",
        "        nn.ReLU(),\n",
        "        nn.MaxPool2d(2))\n",
        "    \n",
        "    \n",
        "    self.fc = nn.Linear(2*2*246,10)\n",
        "\n",
        "  def forward(self,x):\n",
        "    out = self.conv1(x)\n",
        "    out = self.conv2(out)\n",
        "    out = self.conv3(out)\n",
        "    out = self.conv4(out)\n",
        "    out = self.conv5(out)\n",
        "    flatten = out.view(out.size(0),-1)\n",
        "    fc = self.fc(flatten)\n",
        "    return fc\n",
        "\n",
        "model = CNN()\n",
        "# put model on GPU\n",
        "model = model.to(device)\n",
        "\n",
        "print(model)\n",
        "\n",
        "print(\"\\n\\n# Parameters: \", sum([param.nelement() for param in model.parameters()]))\n",
        "\n",
        "# Save the initial weights of model\n",
        "init_model_wts = copy.deepcopy(model.state_dict())"
      ],
      "execution_count": 0,
      "outputs": [
        {
          "output_type": "stream",
          "text": [
            "CNN(\n",
            "  (conv1): Sequential(\n",
            "    (0): Conv2d(1, 32, kernel_size=(5, 5), stride=(1, 1), padding=(2, 2))\n",
            "    (1): ReLU()\n",
            "    (2): MaxPool2d(kernel_size=2, stride=2, padding=0, dilation=1, ceil_mode=False)\n",
            "  )\n",
            "  (conv2): Sequential(\n",
            "    (0): Conv2d(32, 64, kernel_size=(5, 5), stride=(1, 1), padding=(2, 2))\n",
            "    (1): ReLU()\n",
            "    (2): MaxPool2d(kernel_size=2, stride=2, padding=0, dilation=1, ceil_mode=False)\n",
            "  )\n",
            "  (conv3): Sequential(\n",
            "    (0): Conv2d(64, 96, kernel_size=(5, 5), stride=(1, 1), padding=(2, 2))\n",
            "    (1): ReLU()\n",
            "    (2): MaxPool2d(kernel_size=2, stride=2, padding=0, dilation=1, ceil_mode=False)\n",
            "  )\n",
            "  (conv4): Sequential(\n",
            "    (0): Conv2d(96, 246, kernel_size=(3, 3), stride=(1, 1), padding=(2, 2))\n",
            "    (1): ReLU()\n",
            "    (2): MaxPool2d(kernel_size=2, stride=2, padding=0, dilation=1, ceil_mode=False)\n",
            "  )\n",
            "  (conv5): Sequential(\n",
            "    (0): Conv2d(246, 246, kernel_size=(3, 3), stride=(1, 1), padding=(2, 2))\n",
            "    (1): ReLU()\n",
            "    (2): MaxPool2d(kernel_size=2, stride=2, padding=0, dilation=1, ceil_mode=False)\n",
            "  )\n",
            "  (fc): Linear(in_features=984, out_features=10, bias=True)\n",
            ")\n",
            "\n",
            "\n",
            "# Parameters:  973322\n"
          ],
          "name": "stdout"
        }
      ]
    },
    {
      "metadata": {
        "id": "av0WomNHWIpa",
        "colab_type": "text"
      },
      "cell_type": "markdown",
      "source": [
        "### Train CNN\n",
        "\n",
        "#### Loss function\n",
        "\n",
        "criterion = [torch.nn.CrossEntropyLoss](https://pytorch.org/docs/master/nn.html#torch.nn.CrossEntropyLoss)(weight=None, size_average=None, ignore_index=-100, reduce=None, reduction='mean')\n",
        "\n",
        "#### Minimize loss function using stochastic gradient descent\n",
        "optimizer = [torch.optim.SGD](https://pytorch.org/docs/master/optim.html#torch.optim.SGD)(params, lr=<required parameter>, momentum=0, dampening=0, weight_decay=0, nesterov=False)\n"
      ]
    },
    {
      "metadata": {
        "id": "qNbuxqGNWPGs",
        "colab_type": "code",
        "outputId": "84fc6a9e-7385-4fe1-a69d-69f6ca46ff84",
        "colab": {
          "base_uri": "https://localhost:8080/",
          "height": 1649
        }
      },
      "cell_type": "code",
      "source": [
        "import time\n",
        "\n",
        "learning_rate = 1e-2\n",
        "num_epochs = 24\n",
        "patience = 0\n",
        "\n",
        "#loss function\n",
        "criterion = nn.CrossEntropyLoss()  \n",
        "\n",
        "#optimizer\n",
        "optimizer = torch.optim.SGD(model.parameters(), lr=learning_rate)\n",
        "\n",
        "model.load_state_dict(init_model_wts)\n",
        "best_model_wts = copy.deepcopy(model.state_dict())\n",
        "best_acc = 0.0\n",
        "\n",
        "train_errors = []\n",
        "eval_errors = []\n",
        "acc = []\n",
        "\n",
        "print(\"Training begins...\")\n",
        "since = time.time()\n",
        "\n",
        "for epoch in range(num_epochs):\n",
        "  \n",
        "  train_error = 0\n",
        "  train_num = 0\n",
        "  \n",
        "  # model in train mode\n",
        "  model.train()\n",
        "  \n",
        "  for digits, labels in loader_train:\n",
        "    \n",
        "    # digits and labels on GPU\n",
        "    digits = digits.to(device)\n",
        "    labels = labels.to(device)\n",
        "    \n",
        "    # zero gradient buffer\n",
        "    optimizer.zero_grad()\n",
        "    \n",
        "    # forward pass\n",
        "    outputs = model(digits)\n",
        "        \n",
        "    # loss function\n",
        "    loss = criterion(outputs,labels)\n",
        "        \n",
        "    # backward pass\n",
        "    loss.backward()\n",
        "    \n",
        "    # gradient descent step\n",
        "    optimizer.step()\n",
        "    \n",
        "    # add the loss\n",
        "    train_error += loss.item()\n",
        "    train_num += 1\n",
        "  \n",
        "  eval_error = 0\n",
        "  eval_num = 0\n",
        "  correct = 0\n",
        "  total = 0\n",
        "  \n",
        "  # model in eval mode\n",
        "  model.eval()\n",
        "  \n",
        "  for digits, labels in loader_val:\n",
        "    \n",
        "    # digits and labels on GPU\n",
        "    digits = digits.to(device)\n",
        "    labels = labels.to(device)\n",
        "        \n",
        "    # forward pass\n",
        "    outputs = model(digits)\n",
        "    _, predicted = torch.max(outputs.data, 1)\n",
        "\n",
        "    # loss function\n",
        "    loss = criterion(outputs,labels)\n",
        "        \n",
        "    # add the loss\n",
        "    eval_error += loss.item()\n",
        "    eval_num += 1\n",
        "    \n",
        "    # save the accuary\n",
        "    total += labels.size(0)\n",
        "    correct += torch.sum(predicted == labels.data)\n",
        "  \n",
        "  #calculate epoch accuracy\n",
        "  accuracy = (100 * correct)/total\n",
        "    \n",
        "  # deep copy the model of best epoch accuracy\n",
        "  if accuracy > best_acc:\n",
        "    best_acc = accuracy\n",
        "    best_model_wts = copy.deepcopy(model.state_dict())\n",
        "    patience = 0\n",
        "  else:\n",
        "    patience += 1\n",
        "  if patience == 3:\n",
        "    learning_rate /= 2\n",
        "  if patience > 4:\n",
        "    print('early stopping')\n",
        "    break\n",
        "    \n",
        "  # save the loss\n",
        "  train_errors.append(train_error / train_num)\n",
        "  eval_errors.append(eval_error / eval_num)\n",
        "  \n",
        "  acc.append(accuracy)\n",
        "  \n",
        "  #print stats after each epoch\n",
        "  print('\\nEpoch {}'.format(epoch + 1))\n",
        "  print('\\nPatience {}'.format(patience))\n",
        "  print('\\tTrain error: {:.4f}'.format(train_error/train_num))  \n",
        "  print('\\tEval error: {:.4f}'.format(eval_error/eval_num))\n",
        "  print('\\tAccuracy on Eval set: {:.2f}%'.format(accuracy))\n",
        "  \n",
        "time_elapsed = time.time() - since\n",
        "print('\\nTraining complete in {:.0f}m {:.0f}s'.format(time_elapsed // 60, time_elapsed % 60))\n",
        "print('Best Eval Acc: {:.2f}%'.format(best_acc))\n",
        "\n",
        "# load best model weights\n",
        "model.load_state_dict(best_model_wts)\n",
        "  "
      ],
      "execution_count": 0,
      "outputs": [
        {
          "output_type": "stream",
          "text": [
            "Training begins...\n",
            "\n",
            "Epoch 1\n",
            "\n",
            "Patience 0\n",
            "\tTrain error: 2.2885\n",
            "\tEval error: 2.2232\n",
            "\tAccuracy on Eval set: 28.00%\n",
            "\n",
            "Epoch 2\n",
            "\n",
            "Patience 0\n",
            "\tTrain error: 0.7881\n",
            "\tEval error: 0.2311\n",
            "\tAccuracy on Eval set: 93.00%\n",
            "\n",
            "Epoch 3\n",
            "\n",
            "Patience 0\n",
            "\tTrain error: 0.1796\n",
            "\tEval error: 0.1407\n",
            "\tAccuracy on Eval set: 95.00%\n",
            "\n",
            "Epoch 4\n",
            "\n",
            "Patience 0\n",
            "\tTrain error: 0.1131\n",
            "\tEval error: 0.1010\n",
            "\tAccuracy on Eval set: 96.00%\n",
            "\n",
            "Epoch 5\n",
            "\n",
            "Patience 0\n",
            "\tTrain error: 0.0860\n",
            "\tEval error: 0.0870\n",
            "\tAccuracy on Eval set: 97.00%\n",
            "\n",
            "Epoch 6\n",
            "\n",
            "Patience 1\n",
            "\tTrain error: 0.0703\n",
            "\tEval error: 0.0775\n",
            "\tAccuracy on Eval set: 97.00%\n",
            "\n",
            "Epoch 7\n",
            "\n",
            "Patience 2\n",
            "\tTrain error: 0.0595\n",
            "\tEval error: 0.0703\n",
            "\tAccuracy on Eval set: 97.00%\n",
            "\n",
            "Epoch 8\n",
            "\n",
            "Patience 3\n",
            "\tTrain error: 0.0514\n",
            "\tEval error: 0.0660\n",
            "\tAccuracy on Eval set: 97.00%\n",
            "\n",
            "Epoch 9\n",
            "\n",
            "Patience 0\n",
            "\tTrain error: 0.0450\n",
            "\tEval error: 0.0629\n",
            "\tAccuracy on Eval set: 98.00%\n",
            "\n",
            "Epoch 10\n",
            "\n",
            "Patience 1\n",
            "\tTrain error: 0.0397\n",
            "\tEval error: 0.0607\n",
            "\tAccuracy on Eval set: 98.00%\n",
            "\n",
            "Epoch 11\n",
            "\n",
            "Patience 2\n",
            "\tTrain error: 0.0352\n",
            "\tEval error: 0.0592\n",
            "\tAccuracy on Eval set: 98.00%\n",
            "\n",
            "Epoch 12\n",
            "\n",
            "Patience 3\n",
            "\tTrain error: 0.0314\n",
            "\tEval error: 0.0586\n",
            "\tAccuracy on Eval set: 98.00%\n",
            "\n",
            "Epoch 13\n",
            "\n",
            "Patience 4\n",
            "\tTrain error: 0.0281\n",
            "\tEval error: 0.0579\n",
            "\tAccuracy on Eval set: 98.00%\n",
            "early stopping\n",
            "\n",
            "Training complete in 6m 28s\n",
            "Best Eval Acc: 98.00%\n"
          ],
          "name": "stdout"
        }
      ]
    },
    {
      "metadata": {
        "id": "Jsv2qq5dxdXK",
        "colab_type": "text"
      },
      "cell_type": "markdown",
      "source": [
        "### Plot Train and Valid Errors"
      ]
    },
    {
      "metadata": {
        "id": "ppiHJuZTxl89",
        "colab_type": "code",
        "outputId": "a4c0365d-79b0-4318-8f21-d54beb2e04b5",
        "colab": {
          "base_uri": "https://localhost:8080/",
          "height": 294
        }
      },
      "cell_type": "code",
      "source": [
        "import matplotlib.pyplot as plt\n",
        "%matplotlib inline\n",
        "\n",
        "# Plot training and validation curve\n",
        "x = list(range(len(train_errors))) \n",
        "plt.plot(x, train_errors,'m',label='Train')\n",
        "plt.plot(x, eval_errors,'g', label='Validation')\n",
        "\n",
        "plt.xlabel('Number Epochs')\n",
        "plt.ylabel('Loss')\n",
        "plt.legend(loc='best',shadow=True, fancybox=True)\n",
        "plt.title(\"Loss\")\n",
        "\n",
        "plt.show()"
      ],
      "execution_count": 0,
      "outputs": [
        {
          "output_type": "display_data",
          "data": {
            "image/png": "[encoded data removed]",
            "text/plain": [
              "<Figure size 432x288 with 1 Axes>"
            ]
          },
          "metadata": {
            "tags": []
          }
        }
      ]
    },
    {
      "metadata": {
        "id": "20iwVyynyVgH",
        "colab_type": "text"
      },
      "cell_type": "markdown",
      "source": [
        "### Test CNN"
      ]
    },
    {
      "metadata": {
        "id": "NMzvWhFxyXhl",
        "colab_type": "code",
        "outputId": "bc5cafda-6de7-46a9-f8dc-8169c89a0156",
        "colab": {
          "base_uri": "https://localhost:8080/",
          "height": 85
        }
      },
      "cell_type": "code",
      "source": [
        "# model in eval mode\n",
        "model.eval()\n",
        "\n",
        "correct = 0.0\n",
        "total = 0.0\n",
        "\n",
        "for digits, labels in loader_test:\n",
        "  \n",
        "  # digits and labels on GPU\n",
        "  digits = digits.to(device)\n",
        "  labels = labels.to(device)\n",
        "  \n",
        "  # forward pass\n",
        "  outputs = model(digits)\n",
        "  _, predicted = torch.max(outputs.data, 1)\n",
        "  \n",
        "  # save the accuary\n",
        "  total += labels.size(0)\n",
        "  correct += torch.sum(predicted == labels.data)\n",
        "print (correct)\n",
        "print (total)\n",
        "print('Accuracy on the test set: {:.4f}%'.format(100.0 * correct / total))\n",
        "  "
      ],
      "execution_count": 0,
      "outputs": [
        {
          "output_type": "stream",
          "text": [
            "tensor(9825, device='cuda:0')\n",
            "10000.0\n",
            "tensor(98, device='cuda:0')\n",
            "Accuracy on the test set: 98%\n"
          ],
          "name": "stdout"
        }
      ]
    },
    {
      "metadata": {
        "id": "TzYy6Fe31sCs",
        "colab_type": "text"
      },
      "cell_type": "markdown",
      "source": [
        "# CNN vs. MLP \n",
        "\n",
        "## Number of parameters\n",
        "\n",
        "**CNN with 4 conv layers**\n",
        "\n",
        "conv1 = 32 filters size 5x5 + 32 biases = 32x5x5+32 = 832\n",
        "\n",
        "conv2 = 32x64 filters size 5x5 + 64 biases = 32x64x5x5 + 64 = 51,264\n",
        "\n",
        "conv3 = 64x96 filters size 5x5 + 96 biases = 64x96x5x5 + 128 = 153696\n",
        "\n",
        "conv4 = 96x246 filters size 3x3 + 246 biases = 96x246x3x3 + 246 = 212790\n",
        "\n",
        "conv5 = 246x246 filters size 3x3 + 246 biases = 246x246x3x3 + 246 = 544890\n",
        "\n",
        "fc = 1x(2x2x246) x 10 + 10 = 9850\n",
        "\n",
        "total CNN parameters = 832 + 51,264 + 153,696 +212790 + 544890 + 9850 = **973322**\n",
        "\n",
        "\n",
        "\n",
        "**MLP with 2 hidden layers**\n",
        "\n",
        "input to h1 = 784 x 512 + 512 = 401,408\n",
        "\n",
        "h1 to h2 = 512 x 1024 + 1024 = 524,288\n",
        "\n",
        "h2 to output = 1024 x 10  + 10 = 10,240\n",
        "\n",
        "total MLP parameters = 401,408 + 524,288 + 10,240 = **937482**\n",
        "\n",
        "## Discussion\n",
        "\n",
        "CNN's need significantly less parameters than MLP since they exhibit sparse connectivity and parameter sharing. \n",
        "\n",
        "**Sparse connectivity**: direct connections very sparse, but in the deeper layers, units are indirectly connected to all/most of the input image. \n",
        "\n",
        "**Parameter sharing**: each member of the kernel is used at every position of the input, meaning the same parameters are used at all input locations. Therefore you learn only one set of parameters. \n",
        "\n",
        "Since we are asked to build a CNN with similar number of parameters as the MLP trained in Problem 1, the CNN should outperform the MLP since it needs a significantly smaller number of weights to be able to match an MLP's performance. \n",
        "\n",
        "## Performance\n",
        "\n",
        "If m represents the size of the input image, and n the size of the output image, then MLP requires mxn parameters with O(mxn) runtime. In CNNs, you limit the number of connections of each output to k, this means you only need kxn parameters with O(kxn) runtime. \n"
      ]
    }
  ]
}