{
 "cells": [
  {
   "cell_type": "markdown",
   "metadata": {
    "colab_type": "text",
    "id": "view-in-github"
   },
   "source": [
    "<a href=\"https://colab.research.google.com/github/isabellebouchard/ift6135/blob/master/Problem_2.ipynb\" target=\"_parent\"><img src=\"https://colab.research.google.com/assets/colab-badge.svg\" alt=\"Open In Colab\"/></a>"
   ]
  },
  {
   "cell_type": "markdown",
   "metadata": {
    "colab_type": "text",
    "id": "vOsrK0HhsHwK"
   },
   "source": [
    "#TODO\n",
    "- check if its better to have smaller filters at the beginning or end of network (see textbook)\n",
    "\n"
   ]
  },
  {
   "cell_type": "markdown",
   "metadata": {
    "colab_type": "text",
    "id": "VH4lIYcO1K6Q"
   },
   "source": [
    "# Problem 3\n",
    "\n",
    "**Instructions**: [Read the rules](https://https://www.kaggle.com/c/ift6135h19/rules) !\n",
    "\n",
    "The deadline for submissions is February 15th. It is one day before the assignment deadline.\n",
    "\n",
    "The train and test sets are available in the 'Data' tab. You are responsible for splitting the train set to an actual train and valid sets yourself.\n",
    "\n",
    "Once you train a model, you should run it on a test set, and generate a CSV file similar to the sample submission ('sample_submission.csv'), that should specify the class for all images of the test set.\n",
    "\n",
    "Please remember to have ONE MEMBER OF EACH TEAM making all the submissions for the team.\n",
    "\n",
    "Your submissions will be compared to the ground truth, using the mean classification accuracy metric\n",
    "\n",
    "The public leaderboard shows your score, calculated with the ground truth of part of the test set. The private leaderboard (only available at the end of the competition) uses the rest of the test set to evaluate your answers. The latter is the score that will be used in grading. This will encourage you to not overfit the test data. Two of your submissions are eligible for the final private leaderboard. You can hand-select the eligible submissions, or it will otherwise default to the best public scoring submissions.\n",
    "\n",
    "Your score will be taken into account to determine your grade. A score of 0.5 (random guessing or constant classifiers for example) will correspond to a mark of 0%. A score of 0.75 will correspond to a mark of 95% (on this part of the assignment). We will use a concave function on the interval [0.5, 0.75] to determine your mark as a function of the score here. The 5 teams with the highest scores will get a mark of 100% on this part of the assignment.\n",
    "\n",
    "You can have as much as 4 submissions per UTC day. Please note that this is not an invitation to make dozens of submissions during the competition. The goal of the assignment is for you to apply what you learned in class while having fun.\n",
    "\n",
    "\n",
    "\n",
    "\n"
   ]
  },
  {
   "cell_type": "markdown",
   "metadata": {
    "colab_type": "text",
    "id": "WesbPV2R1WnZ"
   },
   "source": [
    "# CNN Architecture\n",
    "\n"
   ]
  },
  {
   "cell_type": "markdown",
   "metadata": {
    "colab_type": "text",
    "id": "EWHeQer4mskR"
   },
   "source": [
    "**Input Image**: 28 x 28\n",
    "\n",
    "**Convolution 1**: 32 filters, kernel size = 5, stide = 1,  padding = 2\n",
    "\n",
    "**Max pooling 1**: kernel size = 2\n",
    "\n",
    "**Convolution 2**: 64 filters, kernel size = 5, stide = 1,  padding = 2\n",
    "\n",
    "**Max pooling 2**: kernel size = 2\n",
    "\n",
    "**Convolution 3**: 128 filters, kernel size = 5, stide = 1,  padding = 2\n",
    "\n",
    "**Max pooling 3**: kernel size = 2\n",
    "\n",
    "**Convolution 4**: 256 filters, kernel size = 3, stide = 1,  padding = 2\n",
    "\n",
    "**Max pooling 4**: kernel size = 2\n",
    "\n",
    "**Fully Connected Layer**: 2 x 2 x 256 \n",
    "\n",
    "**Ouput:** 10 x 1\n",
    "\n",
    "**Loss:** softmax + cross-entropy\n",
    "\n"
   ]
  },
  {
   "cell_type": "markdown",
   "metadata": {
    "colab_type": "text",
    "id": "684DW9LYqBOQ"
   },
   "source": [
    "### Installation Requirements"
   ]
  },
  {
   "cell_type": "code",
   "execution_count": 92,
   "metadata": {
    "colab": {
     "base_uri": "https://localhost:8080/",
     "height": 429
    },
    "colab_type": "code",
    "id": "bpLwFCA2qZ3Z",
    "outputId": "83c73aaa-3f6b-4ad2-c520-0722ed37cb26"
   },
   "outputs": [
    {
     "name": "stdout",
     "output_type": "stream",
     "text": [
      "Requirement already satisfied: torch in /Library/Frameworks/Python.framework/Versions/3.6/lib/python3.6/site-packages (0.4.1)\n",
      "Requirement already satisfied: torchvision in /Library/Frameworks/Python.framework/Versions/3.6/lib/python3.6/site-packages (0.2.1)\n",
      "Requirement already satisfied: matplotlib in /Library/Frameworks/Python.framework/Versions/3.6/lib/python3.6/site-packages (2.2.3)\n",
      "Requirement already satisfied: pillow>=4.1.1 in /Library/Frameworks/Python.framework/Versions/3.6/lib/python3.6/site-packages (from torchvision) (4.3.0)\n",
      "Requirement already satisfied: numpy in /Library/Frameworks/Python.framework/Versions/3.6/lib/python3.6/site-packages (from torchvision) (1.15.4)\n",
      "Requirement already satisfied: six in /Library/Frameworks/Python.framework/Versions/3.6/lib/python3.6/site-packages (from torchvision) (1.11.0)\n",
      "Requirement already satisfied: cycler>=0.10 in /Library/Frameworks/Python.framework/Versions/3.6/lib/python3.6/site-packages (from matplotlib) (0.10.0)\n",
      "Requirement already satisfied: pytz in /Library/Frameworks/Python.framework/Versions/3.6/lib/python3.6/site-packages (from matplotlib) (2017.3)\n",
      "Requirement already satisfied: kiwisolver>=1.0.1 in /Library/Frameworks/Python.framework/Versions/3.6/lib/python3.6/site-packages (from matplotlib) (1.0.1)\n",
      "Requirement already satisfied: python-dateutil>=2.1 in /Library/Frameworks/Python.framework/Versions/3.6/lib/python3.6/site-packages (from matplotlib) (2.7.2)\n",
      "Requirement already satisfied: pyparsing!=2.0.4,!=2.1.2,!=2.1.6,>=2.0.1 in /Library/Frameworks/Python.framework/Versions/3.6/lib/python3.6/site-packages (from matplotlib) (2.2.0)\n",
      "Requirement already satisfied: olefile in /Library/Frameworks/Python.framework/Versions/3.6/lib/python3.6/site-packages (from pillow>=4.1.1->torchvision) (0.44)\n",
      "Requirement already satisfied: setuptools in /Library/Frameworks/Python.framework/Versions/3.6/lib/python3.6/site-packages (from kiwisolver>=1.0.1->matplotlib) (39.0.1)\n"
     ]
    }
   ],
   "source": [
    "!pip3 install torch torchvision matplotlib "
   ]
  },
  {
   "cell_type": "markdown",
   "metadata": {
    "colab_type": "text",
    "id": "6XE-zREuubCO"
   },
   "source": [
    "### Use GPU \n",
    "\n",
    "First, select \"GPU\" in the Edit Menu -> Notebook Settings -> Hardware Accelerator -> GPU\n",
    "\n",
    "**torch.cuda**: *This package adds support for CUDA tensor types, that implement the same function as CPU tensors, but they utilize GPUs for computation.*\n",
    "\n",
    "**torch.cuda.is_available()**: *Returns a bool indicating if CUDA is currently available.*\n",
    "\n",
    "To go from a tensor type CPU to GPU, add .to(\"cuda:0\")"
   ]
  },
  {
   "cell_type": "code",
   "execution_count": 93,
   "metadata": {
    "colab": {
     "base_uri": "https://localhost:8080/",
     "height": 34
    },
    "colab_type": "code",
    "id": "CazsaWTvwY4a",
    "outputId": "86b61a05-7420-4e9a-bda0-88853fe91e10"
   },
   "outputs": [
    {
     "name": "stdout",
     "output_type": "stream",
     "text": [
      "GPU Available: False\n"
     ]
    }
   ],
   "source": [
    "import torch\n",
    "\n",
    "use_gpu = torch.cuda.is_available()\n",
    "print(\"GPU Available: {}\".format(use_gpu))\n",
    "device = torch.device(\"cuda:0\" if use_gpu else \"cpu\")"
   ]
  },
  {
   "cell_type": "markdown",
   "metadata": {
    "colab_type": "text",
    "id": "d-ds7UbtqNVJ"
   },
   "source": [
    "### Kaggle Data\n",
    "\n",
    "**trainset.zip** - zip file with 2 folders ('Cat' and 'Dog') containing the training images\n",
    "\n",
    "**test.csv** - zip file with 1 folder ('test') that contains the images you should classify - the goal of having the 'test' folder is for you to be able to use 'datasets.ImageFolder'\n",
    "\n",
    "**sample_submission.csv** - a sample submission file in the correct format - your submission should be **EXACTLY** in this format for the evaluation to work"
   ]
  },
  {
   "cell_type": "code",
   "execution_count": 94,
   "metadata": {
    "colab": {
     "base_uri": "https://localhost:8080/",
     "height": 711
    },
    "colab_type": "code",
    "id": "CRsuMTDdEhJN",
    "outputId": "b83e05cc-4d93-4c78-d49a-ec9fc3e17b9e"
   },
   "outputs": [
    {
     "name": "stdout",
     "output_type": "stream",
     "text": [
      "Train_size 17498\n",
      "Val_size 2500\n"
     ]
    }
   ],
   "source": [
    "import torch\n",
    "import torchvision\n",
    "from torch.utils.data import DataLoader\n",
    "from torchvision import datasets, models, transforms\n",
    "import os\n",
    "import numpy as np\n",
    "import matplotlib.pyplot as plt\n",
    "\n",
    "\n",
    "# Data augmentation and normalization for training\n",
    "# Just normalization for validation\n",
    "data_transforms = {\n",
    "    'train': transforms.Compose([\n",
    "        #transforms.RandomRotation(5),\n",
    "        #transforms.RandomHorizontalFlip(),\n",
    "        #transforms.RandomResizedCrop(224, scale=(0.96, 1.0), ratio=(0.95, 1.05)),\n",
    "        transforms.Resize([64,64]),\n",
    "        transforms.ToTensor(),\n",
    "        transforms.Normalize([0.485, 0.456, 0.406], [0.229, 0.224, 0.225])\n",
    "    ]),\n",
    "    'val': transforms.Compose([\n",
    "        transforms.Resize([64,64]),\n",
    "        transforms.ToTensor(),\n",
    "        transforms.Normalize([0.485, 0.456, 0.406], [0.229, 0.224, 0.225])\n",
    "    ]),\n",
    "}\n",
    "\n",
    "\n",
    "batch_size = 134\n",
    "\n",
    "data_dir = './data/cat_dog_data'\n",
    "image_datasets = {x: datasets.ImageFolder(os.path.join(data_dir, x),\n",
    "                                          data_transforms[x])\n",
    "                  for x in ['train', 'val']}\n",
    "dataloaders = {x: torch.utils.data.DataLoader(image_datasets[x], batch_size=batch_size,\n",
    "                                             shuffle=True, num_workers=8)\n",
    "              for x in ['train', 'val']}\n",
    "#image_datasets['train'] = torch.from_numpy(image_datasets['train'])\n",
    "#image_datasets['val'] = torch.from_numpy(image_datasets['val'])\n",
    "dataset_sizes = {x: len(image_datasets[x]) for x in ['train', 'val']}\n",
    "print('Train_size',dataset_sizes['train'])\n",
    "print('Val_size',dataset_sizes['val'])\n",
    "class_names = image_datasets['train'].classes\n",
    "\n",
    "\n",
    "\n",
    "\n",
    "# # ChunkSampler class is from https://github.com/pytorch/vision/issues/168\n",
    "# class ChunkSampler(sampler.Sampler):\n",
    "#     \"\"\"Samples elements sequentially from some offset. \n",
    "#     Arguments:\n",
    "#         num_samples: # of desired datapoints\n",
    "#         start: offset where we should start selecting from\n",
    "#     \"\"\"\n",
    "#     def __init__(self, num_samples, start = 0):\n",
    "#         self.num_samples = num_samples\n",
    "#         self.start = start\n",
    "\n",
    "#     def __iter__(self):\n",
    "#         return iter(range(self.start, self.start + self.num_samples))\n",
    "\n",
    "#     def __len__(self):\n",
    "#         return self.num_samples\n",
    "\n",
    "# train_set = MNIST(root='../data',train=True,transform=transforms.ToTensor(),download=True)\n",
    "# test_set = MNIST(root='../data',train=False,transform=transforms.ToTensor(),download=True)\n",
    "\n",
    "# train_set_size = len(train_set)\n",
    "# NUM_TRAIN = int(0.8 * train_set_size) #cast to int to avoid TypeError: 'float' object cannot be interpreted as an integer\n",
    "# NUM_VAL = train_set_size - NUM_TRAIN\n",
    "# NUM_TEST = len(test_set)\n",
    "\n",
    "# loader_train = DataLoader(train_set, batch_size=batch_size, sampler=ChunkSampler(NUM_TRAIN, 0),shuffle=False)\n",
    "# loader_val = DataLoader(train_set, batch_size=batch_size, sampler=ChunkSampler(NUM_VAL, NUM_TRAIN),shuffle=False)\n",
    "# loader_test = DataLoader(test_set, batch_size=batch_size,shuffle=False)"
   ]
  },
  {
   "cell_type": "code",
   "execution_count": 95,
   "metadata": {
    "colab": {},
    "colab_type": "code",
    "id": "UebsKtffYrr_"
   },
   "outputs": [
    {
     "data": {
      "image/png": "[encoded data removed]",
      "text/plain": [
       "<Figure size 432x288 with 1 Axes>"
      ]
     },
     "metadata": {},
     "output_type": "display_data"
    }
   ],
   "source": [
    "def imshow(inp, title=None):\n",
    "    \"\"\"Imshow for Tensor.\"\"\"\n",
    "    inp = inp.numpy().transpose((1, 2, 0))\n",
    "    mean = np.array([0.485, 0.456, 0.406])\n",
    "    std = np.array([0.229, 0.224, 0.225])\n",
    "    inp = std * inp + mean\n",
    "    inp = np.clip(inp, 0, 1)\n",
    "    plt.imshow(inp)\n",
    "    if title is not None:\n",
    "        plt.title(title)\n",
    "    plt.pause(0.001)  # pause a bit so that plots are updated\n",
    "\n",
    "\n",
    "# Get a batch of training data\n",
    "inputs, classes = next(iter(dataloaders['train']))\n",
    "\n",
    "# Make a grid from batch\n",
    "out = torchvision.utils.make_grid(inputs)\n",
    "\n",
    "imshow(out, title=[class_names[x] for x in classes])"
   ]
  },
  {
   "cell_type": "markdown",
   "metadata": {
    "colab_type": "text",
    "id": "19H5ZWImwdHt"
   },
   "source": [
    "### CNN Model\n",
    "\n",
    "[torch.nn.Module](https://pytorch.org/docs/master/nn.html#torch.nn.Module): Base class for all NN modules. \n",
    "Must implement __init__ (defines the layers) and **forward** (returns the output)\n",
    "\n",
    "[torch.nn.Sequential(*args)](https://pytorch.org/docs/master/nn.html#torch.nn.Sequential): Modules will be added to it in the order they are passed in the constructor\n",
    "\n",
    " [torch.nn.Conv2d](https://pytorch.org/docs/master/nn.html#torch.nn.Conv2d)(in_channels, out_channels, kernel_size, stride=1, padding=0, dilation=1, groups=1, bias=True)\n",
    " \n",
    "[ torch.nn.Sigmoid](https://pytorch.org/docs/master/nn.html#sigmoid)\n",
    "\n",
    "[torch.nn.MaxPool2d](https://pytorch.org/docs/master/nn.html#torch.nn.MaxPool2d)(kernel_size, stride=None, padding=0, dilation=1, return_indices=False, ceil_mode=False): Applies a 2D max pooling over an input signal composed of several input planes.\n",
    "\n",
    " [torch.nn.Dropout2d](https://pytorch.org/docs/master/nn.html#dropout2d)(p=0.5, inplace=False): *Each channel will be zeroed out independently on every forward call. with probability p using samples from a Bernoulli distribution*\n",
    "\n",
    " [torch.nn.Linear](https://pytorch.org/docs/master/nn.html#torch.nn.Linear)(in_features, out_features, bias=True)\n"
   ]
  },
  {
   "cell_type": "code",
   "execution_count": 96,
   "metadata": {
    "colab": {},
    "colab_type": "code",
    "id": "BsuLybW3wyq2"
   },
   "outputs": [
    {
     "name": "stdout",
     "output_type": "stream",
     "text": [
      "CNN(\n",
      "  (conv1): Sequential(\n",
      "    (0): Conv2d(3, 32, kernel_size=(5, 5), stride=(1, 1), padding=(2, 2))\n",
      "    (1): ReLU()\n",
      "    (2): MaxPool2d(kernel_size=2, stride=2, padding=0, dilation=1, ceil_mode=False)\n",
      "    (3): Dropout2d(p=0.5)\n",
      "  )\n",
      "  (conv2): Sequential(\n",
      "    (0): Conv2d(32, 64, kernel_size=(5, 5), stride=(1, 1), padding=(2, 2))\n",
      "    (1): ReLU()\n",
      "    (2): MaxPool2d(kernel_size=2, stride=2, padding=0, dilation=1, ceil_mode=False)\n",
      "    (3): Dropout2d(p=0.5)\n",
      "  )\n",
      "  (conv3): Sequential(\n",
      "    (0): Conv2d(64, 128, kernel_size=(5, 5), stride=(1, 1), padding=(2, 2))\n",
      "    (1): ReLU()\n",
      "    (2): MaxPool2d(kernel_size=2, stride=2, padding=0, dilation=1, ceil_mode=False)\n",
      "    (3): Dropout2d(p=0.5)\n",
      "  )\n",
      "  (conv4): Sequential(\n",
      "    (0): Conv2d(128, 256, kernel_size=(3, 3), stride=(1, 1), padding=(2, 2))\n",
      "    (1): ReLU()\n",
      "    (2): MaxPool2d(kernel_size=2, stride=2, padding=0, dilation=1, ceil_mode=False)\n",
      "    (3): Dropout2d(p=0.5)\n",
      "  )\n",
      "  (fc): Linear(in_features=6400, out_features=2, bias=True)\n",
      ")\n",
      "\n",
      "\n",
      "# Parameters:  566594\n"
     ]
    }
   ],
   "source": [
    "import torch.nn as nn\n",
    "import copy\n",
    "\n",
    "class CNN(nn.Module):\n",
    "  def __init__(self):\n",
    "    super(CNN, self).__init__()\n",
    "    \n",
    "    self.conv1 = nn.Sequential(\n",
    "        nn.Conv2d(3,32,kernel_size=5,padding=2),\n",
    "        #nn.Sigmoid(),\n",
    "        nn.ReLU(),\n",
    "        nn.MaxPool2d(2),\n",
    "        nn.Dropout2d())\n",
    "    \n",
    "    self.conv2 = nn.Sequential(\n",
    "        nn.Conv2d(32,64,kernel_size=5,padding=2),\n",
    "        #nn.Sigmoid(),\n",
    "        nn.ReLU(),\n",
    "        nn.MaxPool2d(2),\n",
    "        nn.Dropout2d())\n",
    "\n",
    "    self.conv3 = nn.Sequential(\n",
    "        nn.Conv2d(64,128,kernel_size=5,padding=2),\n",
    "        #nn.Sigmoid(),\n",
    "        nn.ReLU(),\n",
    "        nn.MaxPool2d(2),\n",
    "        nn.Dropout2d())\n",
    "    \n",
    "    self.conv4 = nn.Sequential(\n",
    "        nn.Conv2d(128,256,kernel_size=3,padding=2),\n",
    "        #nn.Sigmoid(),\n",
    "        nn.ReLU(),\n",
    "        nn.MaxPool2d(2),\n",
    "        nn.Dropout2d())\n",
    "    \n",
    "    self.fc = nn.Linear(5*5*256,2)\n",
    "    \n",
    "#     self.fc = nn.Sequential(\n",
    "#         nn.Linear(256*14*14,256*14*14),\n",
    "#         nn.ReLU(),\n",
    "#         nn.Linear(256*14*14,500),\n",
    "#         nn.ReLU(),\n",
    "#         nn.Linear(500,2)\n",
    "#     )\n",
    "        \n",
    "        \n",
    "            \n",
    "        # Linear units\n",
    "#         self.linear = nn.Sequential(\n",
    "#             nn.Linear(144 * 14 * 14, 144 * 14 * 14),\n",
    "#             #nn.BatchNorm1d(144 * 4 * 4),\n",
    "#             nn.ReLU(),\n",
    "#             #nn.Dropout(p=0.5),\n",
    "#             nn.Linear(144 * 14 * 14, 500),\n",
    "#             #nn.BatchNorm1d(500),\n",
    "#             nn.ReLU(),\n",
    "#             #nn.Dropout(p=0.5),\n",
    "#             nn.Linear(500, 2)\n",
    "#         )\n",
    "\n",
    "#     def forward(self, x):\n",
    "#         #print(x.shape)\n",
    "#         x = self.conv(x)\n",
    "#         #print(x.shape)\n",
    "#         x = x.view(-1, 144*14*14)\n",
    "#         #print(x.shape)\n",
    "#         x = self.linear(x)\n",
    "#         m = nn.Softmax()\n",
    "#         x = m(x)\n",
    "#         #print(x.shape)\n",
    "#         #print(x.shape)\n",
    "#         return x\n",
    "\n",
    "  def forward(self,x):\n",
    "    out = self.conv1(x)\n",
    "    out = self.conv2(out)\n",
    "    out = self.conv3(out)\n",
    "    out = self.conv4(out)\n",
    "    #print(\"print out:\",out.size())\n",
    "    flatten = out.view(out.size(0),-1)\n",
    "    #print(\"print flatten:\",flatten.size())\n",
    "    fc = self.fc(flatten)\n",
    "    return fc\n",
    "\n",
    "model = CNN()\n",
    "# put model on GPU\n",
    "model = model.to(device)\n",
    "\n",
    "print(model)\n",
    "\n",
    "print(\"\\n\\n# Parameters: \", sum([param.nelement() for param in model.parameters()]))\n",
    "\n",
    "# Save the initial weights of model\n",
    "init_model_wts = copy.deepcopy(model.state_dict())"
   ]
  },
  {
   "cell_type": "markdown",
   "metadata": {
    "colab_type": "text",
    "id": "av0WomNHWIpa"
   },
   "source": [
    "### Train CNN\n",
    "\n",
    "#### Loss function\n",
    "\n",
    "criterion = [torch.nn.CrossEntropyLoss](https://pytorch.org/docs/master/nn.html#torch.nn.CrossEntropyLoss)(weight=None, size_average=None, ignore_index=-100, reduce=None, reduction='mean')\n",
    "\n",
    "#### Minimize loss function using stochastic gradient descent\n",
    "optimizer = [torch.optim.SGD](https://pytorch.org/docs/master/optim.html#torch.optim.SGD)(params, lr=<required parameter>, momentum=0, dampening=0, weight_decay=0, nesterov=False)\n"
   ]
  },
  {
   "cell_type": "code",
   "execution_count": 97,
   "metadata": {
    "colab": {},
    "colab_type": "code",
    "id": "qNbuxqGNWPGs"
   },
   "outputs": [
    {
     "name": "stdout",
     "output_type": "stream",
     "text": [
      "Training begins...\n"
     ]
    },
    {
     "name": "stderr",
     "output_type": "stream",
     "text": [
      "Process Process-367:\n",
      "Process Process-368:\n",
      "Process Process-366:\n",
      "Process Process-362:\n",
      "Process Process-365:\n",
      "Process Process-363:\n",
      "Process Process-361:\n",
      "Process Process-364:\n",
      "Traceback (most recent call last):\n",
      "Traceback (most recent call last):\n",
      "Traceback (most recent call last):\n",
      "Traceback (most recent call last):\n",
      "Traceback (most recent call last):\n",
      "Traceback (most recent call last):\n",
      "  File \"/Library/Frameworks/Python.framework/Versions/3.6/lib/python3.6/multiprocessing/process.py\", line 249, in _bootstrap\n",
      "    self.run()\n",
      "  File \"/Library/Frameworks/Python.framework/Versions/3.6/lib/python3.6/multiprocessing/process.py\", line 249, in _bootstrap\n",
      "    self.run()\n",
      "Traceback (most recent call last):\n",
      "  File \"/Library/Frameworks/Python.framework/Versions/3.6/lib/python3.6/multiprocessing/process.py\", line 93, in run\n",
      "    self._target(*self._args, **self._kwargs)\n",
      "  File \"/Library/Frameworks/Python.framework/Versions/3.6/lib/python3.6/multiprocessing/process.py\", line 93, in run\n",
      "    self._target(*self._args, **self._kwargs)\n",
      "  File \"/Library/Frameworks/Python.framework/Versions/3.6/lib/python3.6/site-packages/torch/utils/data/dataloader.py\", line 96, in _worker_loop\n",
      "    r = index_queue.get(timeout=MANAGER_STATUS_CHECK_INTERVAL)\n",
      "  File \"/Library/Frameworks/Python.framework/Versions/3.6/lib/python3.6/site-packages/torch/utils/data/dataloader.py\", line 96, in _worker_loop\n",
      "    r = index_queue.get(timeout=MANAGER_STATUS_CHECK_INTERVAL)\n",
      "  File \"/Library/Frameworks/Python.framework/Versions/3.6/lib/python3.6/multiprocessing/queues.py\", line 104, in get\n",
      "    if timeout < 0 or not self._poll(timeout):\n",
      "  File \"/Library/Frameworks/Python.framework/Versions/3.6/lib/python3.6/multiprocessing/queues.py\", line 104, in get\n",
      "    if timeout < 0 or not self._poll(timeout):\n",
      "  File \"/Library/Frameworks/Python.framework/Versions/3.6/lib/python3.6/multiprocessing/connection.py\", line 257, in poll\n",
      "    return self._poll(timeout)\n",
      "  File \"/Library/Frameworks/Python.framework/Versions/3.6/lib/python3.6/multiprocessing/process.py\", line 249, in _bootstrap\n",
      "    self.run()\n",
      "  File \"/Library/Frameworks/Python.framework/Versions/3.6/lib/python3.6/multiprocessing/connection.py\", line 257, in poll\n",
      "    return self._poll(timeout)\n",
      "  File \"/Library/Frameworks/Python.framework/Versions/3.6/lib/python3.6/multiprocessing/connection.py\", line 414, in _poll\n",
      "    r = wait([self], timeout)\n",
      "  File \"/Library/Frameworks/Python.framework/Versions/3.6/lib/python3.6/multiprocessing/connection.py\", line 911, in wait\n",
      "    ready = selector.select(timeout)\n",
      "  File \"/Library/Frameworks/Python.framework/Versions/3.6/lib/python3.6/multiprocessing/connection.py\", line 414, in _poll\n",
      "    r = wait([self], timeout)\n",
      "  File \"/Library/Frameworks/Python.framework/Versions/3.6/lib/python3.6/selectors.py\", line 376, in select\n",
      "    fd_event_list = self._poll.poll(timeout)\n",
      "  File \"/Library/Frameworks/Python.framework/Versions/3.6/lib/python3.6/multiprocessing/connection.py\", line 911, in wait\n",
      "    ready = selector.select(timeout)\n",
      "KeyboardInterrupt\n",
      "  File \"/Library/Frameworks/Python.framework/Versions/3.6/lib/python3.6/selectors.py\", line 376, in select\n",
      "    fd_event_list = self._poll.poll(timeout)\n",
      "KeyboardInterrupt\n",
      "Traceback (most recent call last):\n",
      "  File \"/Library/Frameworks/Python.framework/Versions/3.6/lib/python3.6/multiprocessing/process.py\", line 249, in _bootstrap\n",
      "    self.run()\n",
      "  File \"/Library/Frameworks/Python.framework/Versions/3.6/lib/python3.6/multiprocessing/process.py\", line 249, in _bootstrap\n",
      "    self.run()\n",
      "  File \"/Library/Frameworks/Python.framework/Versions/3.6/lib/python3.6/multiprocessing/process.py\", line 93, in run\n",
      "    self._target(*self._args, **self._kwargs)\n",
      "  File \"/Library/Frameworks/Python.framework/Versions/3.6/lib/python3.6/multiprocessing/process.py\", line 249, in _bootstrap\n",
      "    self.run()\n",
      "  File \"/Library/Frameworks/Python.framework/Versions/3.6/lib/python3.6/multiprocessing/process.py\", line 249, in _bootstrap\n",
      "    self.run()\n",
      "  File \"/Library/Frameworks/Python.framework/Versions/3.6/lib/python3.6/multiprocessing/process.py\", line 93, in run\n",
      "    self._target(*self._args, **self._kwargs)\n",
      "  File \"/Library/Frameworks/Python.framework/Versions/3.6/lib/python3.6/multiprocessing/process.py\", line 93, in run\n",
      "    self._target(*self._args, **self._kwargs)\n",
      "  File \"/Library/Frameworks/Python.framework/Versions/3.6/lib/python3.6/multiprocessing/process.py\", line 93, in run\n",
      "    self._target(*self._args, **self._kwargs)\n",
      "  File \"/Library/Frameworks/Python.framework/Versions/3.6/lib/python3.6/site-packages/torch/utils/data/dataloader.py\", line 96, in _worker_loop\n",
      "    r = index_queue.get(timeout=MANAGER_STATUS_CHECK_INTERVAL)\n",
      "  File \"/Library/Frameworks/Python.framework/Versions/3.6/lib/python3.6/multiprocessing/process.py\", line 249, in _bootstrap\n",
      "    self.run()\n",
      "  File \"/Library/Frameworks/Python.framework/Versions/3.6/lib/python3.6/multiprocessing/process.py\", line 93, in run\n",
      "    self._target(*self._args, **self._kwargs)\n",
      "  File \"/Library/Frameworks/Python.framework/Versions/3.6/lib/python3.6/site-packages/torch/utils/data/dataloader.py\", line 96, in _worker_loop\n",
      "    r = index_queue.get(timeout=MANAGER_STATUS_CHECK_INTERVAL)\n",
      "  File \"/Library/Frameworks/Python.framework/Versions/3.6/lib/python3.6/multiprocessing/process.py\", line 93, in run\n",
      "    self._target(*self._args, **self._kwargs)\n",
      "  File \"/Library/Frameworks/Python.framework/Versions/3.6/lib/python3.6/site-packages/torch/utils/data/dataloader.py\", line 96, in _worker_loop\n",
      "    r = index_queue.get(timeout=MANAGER_STATUS_CHECK_INTERVAL)\n",
      "  File \"/Library/Frameworks/Python.framework/Versions/3.6/lib/python3.6/multiprocessing/queues.py\", line 104, in get\n",
      "    if timeout < 0 or not self._poll(timeout):\n",
      "  File \"/Library/Frameworks/Python.framework/Versions/3.6/lib/python3.6/site-packages/torch/utils/data/dataloader.py\", line 96, in _worker_loop\n",
      "    r = index_queue.get(timeout=MANAGER_STATUS_CHECK_INTERVAL)\n",
      "  File \"/Library/Frameworks/Python.framework/Versions/3.6/lib/python3.6/site-packages/torch/utils/data/dataloader.py\", line 96, in _worker_loop\n",
      "    r = index_queue.get(timeout=MANAGER_STATUS_CHECK_INTERVAL)\n",
      "  File \"/Library/Frameworks/Python.framework/Versions/3.6/lib/python3.6/multiprocessing/queues.py\", line 104, in get\n",
      "    if timeout < 0 or not self._poll(timeout):\n",
      "  File \"/Library/Frameworks/Python.framework/Versions/3.6/lib/python3.6/site-packages/torch/utils/data/dataloader.py\", line 96, in _worker_loop\n",
      "    r = index_queue.get(timeout=MANAGER_STATUS_CHECK_INTERVAL)\n",
      "  File \"/Library/Frameworks/Python.framework/Versions/3.6/lib/python3.6/multiprocessing/connection.py\", line 257, in poll\n",
      "    return self._poll(timeout)\n",
      "  File \"/Library/Frameworks/Python.framework/Versions/3.6/lib/python3.6/multiprocessing/queues.py\", line 104, in get\n",
      "    if timeout < 0 or not self._poll(timeout):\n",
      "  File \"/Library/Frameworks/Python.framework/Versions/3.6/lib/python3.6/multiprocessing/queues.py\", line 104, in get\n",
      "    if timeout < 0 or not self._poll(timeout):\n",
      "  File \"/Library/Frameworks/Python.framework/Versions/3.6/lib/python3.6/multiprocessing/connection.py\", line 257, in poll\n",
      "    return self._poll(timeout)\n",
      "  File \"/Library/Frameworks/Python.framework/Versions/3.6/lib/python3.6/multiprocessing/connection.py\", line 414, in _poll\n",
      "    r = wait([self], timeout)\n",
      "  File \"/Library/Frameworks/Python.framework/Versions/3.6/lib/python3.6/multiprocessing/queues.py\", line 104, in get\n",
      "    if timeout < 0 or not self._poll(timeout):\n",
      "  File \"/Library/Frameworks/Python.framework/Versions/3.6/lib/python3.6/multiprocessing/connection.py\", line 257, in poll\n",
      "    return self._poll(timeout)\n",
      "  File \"/Library/Frameworks/Python.framework/Versions/3.6/lib/python3.6/multiprocessing/queues.py\", line 104, in get\n",
      "    if timeout < 0 or not self._poll(timeout):\n",
      "  File \"/Library/Frameworks/Python.framework/Versions/3.6/lib/python3.6/multiprocessing/connection.py\", line 257, in poll\n",
      "    return self._poll(timeout)\n",
      "  File \"/Library/Frameworks/Python.framework/Versions/3.6/lib/python3.6/multiprocessing/connection.py\", line 911, in wait\n",
      "    ready = selector.select(timeout)\n",
      "  File \"/Library/Frameworks/Python.framework/Versions/3.6/lib/python3.6/selectors.py\", line 376, in select\n",
      "    fd_event_list = self._poll.poll(timeout)\n",
      "  File \"/Library/Frameworks/Python.framework/Versions/3.6/lib/python3.6/multiprocessing/connection.py\", line 257, in poll\n",
      "    return self._poll(timeout)\n"
     ]
    },
    {
     "name": "stderr",
     "output_type": "stream",
     "text": [
      "  File \"/Library/Frameworks/Python.framework/Versions/3.6/lib/python3.6/multiprocessing/connection.py\", line 414, in _poll\n",
      "    r = wait([self], timeout)\n",
      "  File \"/Library/Frameworks/Python.framework/Versions/3.6/lib/python3.6/multiprocessing/connection.py\", line 414, in _poll\n",
      "    r = wait([self], timeout)\n",
      "  File \"/Library/Frameworks/Python.framework/Versions/3.6/lib/python3.6/multiprocessing/connection.py\", line 257, in poll\n",
      "    return self._poll(timeout)\n",
      "KeyboardInterrupt\n",
      "  File \"/Library/Frameworks/Python.framework/Versions/3.6/lib/python3.6/multiprocessing/connection.py\", line 911, in wait\n",
      "    ready = selector.select(timeout)\n",
      "  File \"/Library/Frameworks/Python.framework/Versions/3.6/lib/python3.6/multiprocessing/connection.py\", line 414, in _poll\n",
      "    r = wait([self], timeout)\n",
      "  File \"/Library/Frameworks/Python.framework/Versions/3.6/lib/python3.6/multiprocessing/connection.py\", line 414, in _poll\n",
      "    r = wait([self], timeout)\n",
      "  File \"/Library/Frameworks/Python.framework/Versions/3.6/lib/python3.6/multiprocessing/connection.py\", line 414, in _poll\n",
      "    r = wait([self], timeout)\n",
      "  File \"/Library/Frameworks/Python.framework/Versions/3.6/lib/python3.6/multiprocessing/connection.py\", line 911, in wait\n",
      "    ready = selector.select(timeout)\n",
      "  File \"/Library/Frameworks/Python.framework/Versions/3.6/lib/python3.6/multiprocessing/connection.py\", line 911, in wait\n",
      "    ready = selector.select(timeout)\n",
      "  File \"/Library/Frameworks/Python.framework/Versions/3.6/lib/python3.6/selectors.py\", line 376, in select\n",
      "    fd_event_list = self._poll.poll(timeout)\n",
      "  File \"/Library/Frameworks/Python.framework/Versions/3.6/lib/python3.6/multiprocessing/connection.py\", line 911, in wait\n",
      "    ready = selector.select(timeout)\n",
      "  File \"/Library/Frameworks/Python.framework/Versions/3.6/lib/python3.6/multiprocessing/connection.py\", line 911, in wait\n",
      "    ready = selector.select(timeout)\n",
      "KeyboardInterrupt\n",
      "  File \"/Library/Frameworks/Python.framework/Versions/3.6/lib/python3.6/selectors.py\", line 376, in select\n",
      "    fd_event_list = self._poll.poll(timeout)\n",
      "  File \"/Library/Frameworks/Python.framework/Versions/3.6/lib/python3.6/selectors.py\", line 376, in select\n",
      "    fd_event_list = self._poll.poll(timeout)\n",
      "KeyboardInterrupt\n",
      "  File \"/Library/Frameworks/Python.framework/Versions/3.6/lib/python3.6/selectors.py\", line 376, in select\n",
      "    fd_event_list = self._poll.poll(timeout)\n",
      "  File \"/Library/Frameworks/Python.framework/Versions/3.6/lib/python3.6/selectors.py\", line 376, in select\n",
      "    fd_event_list = self._poll.poll(timeout)\n",
      "KeyboardInterrupt\n",
      "KeyboardInterrupt\n",
      "KeyboardInterrupt\n"
     ]
    },
    {
     "ename": "KeyboardInterrupt",
     "evalue": "",
     "output_type": "error",
     "traceback": [
      "\u001b[0;31m---------------------------------------------------------------------------\u001b[0m",
      "\u001b[0;31mKeyboardInterrupt\u001b[0m                         Traceback (most recent call last)",
      "\u001b[0;32m<ipython-input-97-b42332c899d6>\u001b[0m in \u001b[0;36m<module>\u001b[0;34m()\u001b[0m\n\u001b[1;32m     45\u001b[0m \u001b[0;34m\u001b[0m\u001b[0m\n\u001b[1;32m     46\u001b[0m     \u001b[0;31m# backward pass\u001b[0m\u001b[0;34m\u001b[0m\u001b[0;34m\u001b[0m\u001b[0m\n\u001b[0;32m---> 47\u001b[0;31m     \u001b[0mloss\u001b[0m\u001b[0;34m.\u001b[0m\u001b[0mbackward\u001b[0m\u001b[0;34m(\u001b[0m\u001b[0;34m)\u001b[0m\u001b[0;34m\u001b[0m\u001b[0m\n\u001b[0m\u001b[1;32m     48\u001b[0m \u001b[0;34m\u001b[0m\u001b[0m\n\u001b[1;32m     49\u001b[0m     \u001b[0;31m# gradient descent step\u001b[0m\u001b[0;34m\u001b[0m\u001b[0;34m\u001b[0m\u001b[0m\n",
      "\u001b[0;32m/Library/Frameworks/Python.framework/Versions/3.6/lib/python3.6/site-packages/torch/tensor.py\u001b[0m in \u001b[0;36mbackward\u001b[0;34m(self, gradient, retain_graph, create_graph)\u001b[0m\n\u001b[1;32m     91\u001b[0m                 \u001b[0mproducts\u001b[0m\u001b[0;34m.\u001b[0m \u001b[0mDefaults\u001b[0m \u001b[0mto\u001b[0m\u001b[0;31m \u001b[0m\u001b[0;31m`\u001b[0m\u001b[0;31m`\u001b[0m\u001b[0;32mFalse\u001b[0m\u001b[0;31m`\u001b[0m\u001b[0;31m`\u001b[0m\u001b[0;34m.\u001b[0m\u001b[0;34m\u001b[0m\u001b[0m\n\u001b[1;32m     92\u001b[0m         \"\"\"\n\u001b[0;32m---> 93\u001b[0;31m         \u001b[0mtorch\u001b[0m\u001b[0;34m.\u001b[0m\u001b[0mautograd\u001b[0m\u001b[0;34m.\u001b[0m\u001b[0mbackward\u001b[0m\u001b[0;34m(\u001b[0m\u001b[0mself\u001b[0m\u001b[0;34m,\u001b[0m \u001b[0mgradient\u001b[0m\u001b[0;34m,\u001b[0m \u001b[0mretain_graph\u001b[0m\u001b[0;34m,\u001b[0m \u001b[0mcreate_graph\u001b[0m\u001b[0;34m)\u001b[0m\u001b[0;34m\u001b[0m\u001b[0m\n\u001b[0m\u001b[1;32m     94\u001b[0m \u001b[0;34m\u001b[0m\u001b[0m\n\u001b[1;32m     95\u001b[0m     \u001b[0;32mdef\u001b[0m \u001b[0mregister_hook\u001b[0m\u001b[0;34m(\u001b[0m\u001b[0mself\u001b[0m\u001b[0;34m,\u001b[0m \u001b[0mhook\u001b[0m\u001b[0;34m)\u001b[0m\u001b[0;34m:\u001b[0m\u001b[0;34m\u001b[0m\u001b[0m\n",
      "\u001b[0;32m/Library/Frameworks/Python.framework/Versions/3.6/lib/python3.6/site-packages/torch/autograd/__init__.py\u001b[0m in \u001b[0;36mbackward\u001b[0;34m(tensors, grad_tensors, retain_graph, create_graph, grad_variables)\u001b[0m\n\u001b[1;32m     88\u001b[0m     Variable._execution_engine.run_backward(\n\u001b[1;32m     89\u001b[0m         \u001b[0mtensors\u001b[0m\u001b[0;34m,\u001b[0m \u001b[0mgrad_tensors\u001b[0m\u001b[0;34m,\u001b[0m \u001b[0mretain_graph\u001b[0m\u001b[0;34m,\u001b[0m \u001b[0mcreate_graph\u001b[0m\u001b[0;34m,\u001b[0m\u001b[0;34m\u001b[0m\u001b[0m\n\u001b[0;32m---> 90\u001b[0;31m         allow_unreachable=True)  # allow_unreachable flag\n\u001b[0m\u001b[1;32m     91\u001b[0m \u001b[0;34m\u001b[0m\u001b[0m\n\u001b[1;32m     92\u001b[0m \u001b[0;34m\u001b[0m\u001b[0m\n",
      "\u001b[0;31mKeyboardInterrupt\u001b[0m: "
     ]
    }
   ],
   "source": [
    "learning_rate = 1e-2\n",
    "num_epochs = 10\n",
    "\n",
    "#loss function\n",
    "criterion = nn.CrossEntropyLoss()  \n",
    "\n",
    "#optimizer\n",
    "optimizer = torch.optim.SGD(model.parameters(), lr=learning_rate)\n",
    "\n",
    "model.load_state_dict(init_model_wts)\n",
    "\n",
    "train_errors = []\n",
    "eval_errors = []\n",
    "\n",
    "print(\"Training begins...\")\n",
    "for epoch in range(num_epochs):\n",
    "  \n",
    "  train_error = 0\n",
    "  train_num = 0\n",
    "  \n",
    "  # model in train mode\n",
    "  model.train()\n",
    "  \n",
    "  for i,(digits,labels) in enumerate(dataloaders['train']):\n",
    "    \n",
    "    # digits and labels on GPU\n",
    "#     digits = digits.to(device)\n",
    "#     labels = labels.to(device)\n",
    "    \n",
    "    # zero gradient buffer\n",
    "    optimizer.zero_grad()\n",
    "    #print(\"Digits_Train \",digits)\n",
    "    #print(\"Labels \",labels)\n",
    "    #print(\"I: \",i)\n",
    "    #print(\"Labels\",labels)\n",
    "    # forward pass\n",
    "    #print(\"type\",type(digits[i]))\n",
    "    #print(\"Shape\",digits[i].size())\n",
    "    outputs = model(digits)\n",
    "    \n",
    "    #print(outputs)\n",
    "        \n",
    "    # loss function\n",
    "    loss = criterion(outputs,labels)\n",
    "        \n",
    "    # backward pass\n",
    "    loss.backward()\n",
    "    \n",
    "    # gradient descent step\n",
    "    optimizer.step()\n",
    "    \n",
    "    # add the loss\n",
    "    train_error += loss.item()\n",
    "    train_num += 1\n",
    "  \n",
    "  eval_error = 0\n",
    "  eval_num = 0\n",
    "  \n",
    "  # model in eval mode\n",
    "  print(\"Eval begins...\")\n",
    "  model.eval()\n",
    "  \n",
    "  for i,(digits,labels) in enumerate(dataloaders['val']):\n",
    "    \n",
    "    # digits and labels on GPU\n",
    "#     digits = digits.to(device)\n",
    "#     labels = labels.to(device)\n",
    "        \n",
    "    # forward pass\n",
    "    #print(\"Digits_Eval \",digits)\n",
    "\n",
    "    outputs = model(digits)\n",
    "    \n",
    "    # loss function\n",
    "    loss = criterion(outputs,labels)\n",
    "        \n",
    "    # add the loss\n",
    "    eval_error += loss.item()\n",
    "    eval_num += 1\n",
    "    \n",
    "  \n",
    "  # save the loss\n",
    "  train_errors.append(train_error / train_num)\n",
    "  eval_errors.append(eval_error / eval_num)\n",
    "  \n",
    "  #print eval_error after each epoch\n",
    "  print('\\nEpoch {}'.format(epoch + 1))\n",
    "  print('\\tTrain error: {:.4f}'.format(train_error/train_num))  \n",
    "  print('\\tEval error: {:.4f}'.format(eval_error/eval_num))\n",
    "  "
   ]
  },
  {
   "cell_type": "markdown",
   "metadata": {
    "colab_type": "text",
    "id": "-CaHug8ywF-U"
   },
   "source": [
    "### Evaluate CNN\n"
   ]
  },
  {
   "cell_type": "code",
   "execution_count": null,
   "metadata": {
    "colab": {},
    "colab_type": "code",
    "id": "fa8RYeR9wOmb"
   },
   "outputs": [],
   "source": [
    "# eval_errors = []\n",
    "\n",
    "# print(\"Evaluation begins...\")\n",
    "\n",
    "# for epoch in range(num_epochs):\n",
    "  \n",
    "#   eval_error = 0\n",
    "#   eval_num = 0\n",
    "  \n",
    "#   # model in eval mode\n",
    "#   model.eval()\n",
    "  \n",
    "#   for digits, labels in loader_val:\n",
    "    \n",
    "#     # digits and labels on GPU\n",
    "#     digits = digits.to(device)\n",
    "#     labels = labels.to(device)\n",
    "        \n",
    "#     # forward pass\n",
    "#     outputs = model(digits)\n",
    "    \n",
    "#     # loss function\n",
    "#     loss = criterion(outputs,labels)\n",
    "        \n",
    "#     # add the loss\n",
    "#     eval_error += loss.item()\n",
    "#     eval_num += 1\n",
    "  \n",
    "#   # save the loss\n",
    "#   eval_errors.append(eval_error / eval_num)\n",
    "  \n",
    "#   #print eval_error after each epoch\n",
    "#   print('\\nEpoch {}'.format(epoch + 1))\n",
    "#   print('\\tEval error: {:.4f}'.format(eval_error/eval_num))\n",
    "    "
   ]
  },
  {
   "cell_type": "markdown",
   "metadata": {
    "colab_type": "text",
    "id": "Jsv2qq5dxdXK"
   },
   "source": [
    "### Plot Train and Valid Errors"
   ]
  },
  {
   "cell_type": "code",
   "execution_count": null,
   "metadata": {
    "colab": {},
    "colab_type": "code",
    "id": "ppiHJuZTxl89"
   },
   "outputs": [],
   "source": [
    "import matplotlib.pyplot as plt\n",
    "%matplotlib inline\n",
    "\n",
    "# Plot training and validation curve\n",
    "x = list(range(len(train_errors))) \n",
    "plt.plot(x, train_errors,'m',label='Train')\n",
    "plt.plot(x, eval_errors,'g', label='Validation')\n",
    "\n",
    "plt.xlabel('Number Epochs')\n",
    "plt.ylabel('Loss')\n",
    "plt.legend(loc='best',shadow=True, fancybox=True)\n",
    "plt.title(\"Loss\")\n",
    "\n",
    "plt.show()"
   ]
  },
  {
   "cell_type": "markdown",
   "metadata": {
    "colab_type": "text",
    "id": "20iwVyynyVgH"
   },
   "source": [
    "### Test CNN"
   ]
  },
  {
   "cell_type": "code",
   "execution_count": null,
   "metadata": {
    "colab": {},
    "colab_type": "code",
    "id": "NMzvWhFxyXhl"
   },
   "outputs": [],
   "source": [
    "# # model in eval mode\n",
    "# model.eval()\n",
    "\n",
    "# correct = 0\n",
    "# total = 0\n",
    "\n",
    "# for digits, labels in loader_test:\n",
    "  \n",
    "#   # digits and labels on GPU\n",
    "#   digits = digits.to(device)\n",
    "#   labels = labels.to(device)\n",
    "  \n",
    "#   # forward pass\n",
    "#   outputs = model(digits)\n",
    "#   _, predicted = torch.max(outputs.data, 1)\n",
    "  \n",
    "#   # save the accuary\n",
    "  \n",
    "#   total += labels.size(0)\n",
    "#   correct += torch.sum(predicted == labels.data)\n",
    "  \n",
    "# print('Accuracy on the test set: {:.2f}%'.format(100 * correct / total))\n",
    "  "
   ]
  },
  {
   "cell_type": "markdown",
   "metadata": {
    "colab_type": "text",
    "id": "TzYy6Fe31sCs"
   },
   "source": [
    "# CNN vs. MLP \n",
    "\n",
    "## Number of parameters\n",
    "\n",
    "**CNN with 4 conv layers**\n",
    "\n",
    "conv1 = 32 filters size 5x5 + 32 biases = 32x5x5+32 = 832\n",
    "\n",
    "conv2 = 32x64 filters size 5x5 + 64 biases = 32x64x5x5 + 64 = 51,264\n",
    "\n",
    "conv3 = 64x128 filters size 5x5 + 128 biases = 64x128x5x5 + 128 = 204,928\n",
    "\n",
    "conv4 = 128x256 filters size 3x3 + 256 biases = 128x256x3x3 + 256 = 295,168\n",
    "\n",
    "fc = 1x(2x2x256) x 10 + 10 = 10,250\n",
    "\n",
    "total CNN parameters = 832 + 51,264 + 204,928 + 295,168 + 10,250 = **562,442**\n",
    "\n",
    "\n",
    "\n",
    "**MLP with 2 hidden layers**\n",
    "\n",
    "input to h1 = 784 x 512 = 401,408\n",
    "\n",
    "h1 to h2 = 512 x 1024 = 524,288\n",
    "\n",
    "h2 to output = 1024 x 10 = 10,240\n",
    "\n",
    "total MLP parameters = 401,408 + 524,288 + 10,240 = **935,936**\n",
    "\n",
    "## Discussion\n",
    "\n",
    "CNN's need significantly less parameters than MLP since they exhibit sparse connectivity and parameter sharing. \n",
    "\n",
    "**Sparse connectivity**: direct connections very sparse, but in the deeper layers, units are indirectly connected to all/most of the input image. \n",
    "\n",
    "**Parameter sharing**: each member of the kernel is used at every position of the input, meaning the same parameters are used at all input locations. Therefore you learn only one set of parameters. \n",
    "\n",
    "Since we are asked to build a CNN with similar number of parameters as the MLP trained in Problem 1, the CNN should outperform the MLP since it needs a significantly smaller number of weights to be able to match an MLP's performance. \n",
    "\n",
    "## Performance\n",
    "\n",
    "If m represents the size of the input image, and n the size of the output image, then MLP requires mxn parameters with O(mxn) runtime. In CNNs, you limit the number of connections of each output to k, this means you only need kxn parameters with O(kxn) runtime. \n"
   ]
  },
  {
   "cell_type": "markdown",
   "metadata": {
    "colab_type": "text",
    "id": "U3gbXk-i0-uH"
   },
   "source": [
    "# References\n",
    "\n",
    "List of references we can check out to increase our performance:\n",
    "\n",
    "*   MNIST Image Class Tensorflow CNN 99.51% Test Accur.: https://www.kaggle.com/raoulma/mnist-image-class-tensorflow-cnn-99-51-test-acc\n",
    "*   How to Choose CNN Architecture for MNIST: https://www.kaggle.com/cdeotte/how-to-choose-cnn-architecture-mnist\n",
    "*   99.75% Accur: https://www.kaggle.com/cdeotte/25-million-images-0-99757-mnist/notebook\n",
    "\n"
   ]
  }
 ],
 "metadata": {
  "accelerator": "GPU",
  "colab": {
   "collapsed_sections": [],
   "name": "Problem_3.ipynb",
   "provenance": [],
   "toc_visible": true,
   "version": "0.3.2"
  },
  "kernelspec": {
   "display_name": "Python 3",
   "language": "python",
   "name": "python3"
  },
  "language_info": {
   "codemirror_mode": {
    "name": "ipython",
    "version": 3
   },
   "file_extension": ".py",
   "mimetype": "text/x-python",
   "name": "python",
   "nbconvert_exporter": "python",
   "pygments_lexer": "ipython3",
   "version": "3.6.2"
  }
 },
 "nbformat": 4,
 "nbformat_minor": 1
}
